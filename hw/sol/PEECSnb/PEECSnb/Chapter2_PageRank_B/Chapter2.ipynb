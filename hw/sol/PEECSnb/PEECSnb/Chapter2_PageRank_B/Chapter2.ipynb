{
 "cells": [
  {
   "cell_type": "markdown",
   "metadata": {},
   "source": [
    "# 2. PageRank B \n",
    "---------------------------------------------\n"
   ]
  },
  {
   "cell_type": "code",
   "execution_count": 1,
   "metadata": {
    "collapsed": false
   },
   "outputs": [
    {
     "data": {
      "text/html": [
       "<style>\n",
       "</style>\n",
       "<script>\n",
       "  function code_toggle() {\n",
       "    if (code_shown){\n",
       "      $('div.input').hide('500');\n",
       "      $('#toggleButton').val('Show Code')\n",
       "    } else {\n",
       "      $('div.input').show('500');\n",
       "      $('#toggleButton').val('Hide Code')\n",
       "    }\n",
       "    code_shown = !code_shown\n",
       "  }\n",
       "\n",
       "  $( document ).ready(function(){\n",
       "    code_shown=false;\n",
       "    $('div.input').hide()\n",
       "  });\n",
       "</script>\n",
       "<form action=\"javascript:code_toggle()\"><input type=\"submit\" id=\"toggleButton\" value=\"Show Code\"></form>\n",
       "<script>\n",
       "    // AUTORUN ALL CELLS ON NOTEBOOK-LOAD!\n",
       "    require(\n",
       "        ['base/js/namespace', 'jquery'], \n",
       "        function(jupyter, $) {\n",
       "            $(jupyter.events).on(\"kernel_ready.Kernel\", function () {\n",
       "                console.log(\"Auto-running all cells-below...\");\n",
       "                jupyter.actions.call('jupyter-notebook:run-all-cells-below');\n",
       "                jupyter.actions.call('jupyter-notebook:save-notebook');\n",
       "            });\n",
       "        }\n",
       "    );\n",
       "</script>\n",
       "\n",
       "\n",
       "\n"
      ],
      "text/plain": [
       "<IPython.core.display.HTML object>"
      ]
     },
     "execution_count": 1,
     "metadata": {},
     "output_type": "execute_result"
    }
   ],
   "source": [
    "from IPython.core.display import HTML\n",
    "\n",
    "\n",
    "def css_styling():\n",
    "    styles = open(\"../styles/custom.css\", \"r\").read()\n",
    "    return HTML(styles)\n",
    "css_styling()"
   ]
  },
  {
   "cell_type": "markdown",
   "metadata": {},
   "source": [
    "### Comments\n",
    "\n",
    "This chapter continues our exploration of **discrete time Markov chains**.  In particular, it studies the convergence of the fraction of time that a Markov chain spends in the states and also the convergence of the probability of being in the states.  We start with coin flips before moving to Markov chains.\n",
    "\n",
    "## 2.1. Law of Large Numbers for Coin Flips\n",
    "\n",
    "You flip a biased coin $N$ times.  The probability of heads is $p$.  Let $X(N)$ be the number of heads.  Then,\n",
    "$$P(X(N) = n) = {N \\choose n} p^n (1 - p)^{N-n}, n = 0, 1, \\ldots, N. \\tag{2.1}$$\n",
    "Recall that ${N \\choose n} = N!/(n!(N - n)!)$ where $m! = 1\\times 2 \\times \\cdots \\times m$ and $0! := 1$.  The expression above is the **binominal distribution** with parameters $N$ and $p$ and we write $X(N) =_D B(N,p)$.\n",
    "\n",
    "We plot this distribution:"
   ]
  },
  {
   "cell_type": "code",
   "execution_count": 2,
   "metadata": {
    "collapsed": false
   },
   "outputs": [
    {
     "data": {
      "image/png": "[encoded data removed]",
      "text/plain": [
       "<matplotlib.figure.Figure at 0x10a6c2a20>"
      ]
     },
     "metadata": {},
     "output_type": "display_data"
    }
   ],
   "source": [
    "%matplotlib inline\n",
    "from IPython.core.pylabtools import figsize\n",
    "import numpy as np\n",
    "from matplotlib import pyplot as plt\n",
    "figsize(8, 6)\n",
    "\n",
    "from ipywidgets import *\n",
    "from IPython.display import display\n",
    "\n",
    "\n",
    "\n",
    "def bino_demo(N,p):\n",
    "    a = np.arange(0,N)\n",
    "    b = np.arange(0.0,N)\n",
    "    b[0]=(1 - p)**(N)\n",
    "    for i in range(1,N):\n",
    "        b[i] = p/(1-p)*b[i-1]*(N - i +1)/i   \n",
    "        \n",
    "    colours = [\"#348ABD\"]\n",
    "    plt.bar(a, b, color=colours[0], label = 'Binomial Distribution')\n",
    "    d = [0, N/10, 2*N/10, 3*N/10, 4*N/10, 5*N/10, 6*N/10, 7*N/10, 8*N/10, 9*N/10, N]\n",
    "    plt.xticks(d)\n",
    "    plt.legend()\n",
    "    plt.ylabel(\"$P(X(N) = n)$\")\n",
    "    plt.xlabel(\"$n$\")\n",
    "    plt.title(\"$B(N,p)$\")\n",
    "        \n",
    "\n",
    "w1 = widgets.IntSlider(description='N', min = 10, max = 200, step = 10, value = 100, position = 'bottom')\n",
    "w2 = widgets.FloatSlider(description='p', min = 0.1, max = 0.9, step = 0.1, value = 0.5)\n",
    "z = widgets.interactive(bino_demo, N = w1, p = w2)\n",
    "\n",
    "display(z)"
   ]
  },
  {
   "cell_type": "markdown",
   "metadata": {},
   "source": [
    "The figure shows that it is unlikely that $X(N)/N$ differs much from $p$, specially when $N$ is large.  In fact, a bit of algebra based (2.1) shows that, for any given $\\epsilon > 0$,\n",
    "$$P( |\\frac{X(N)}{N} - p| > \\epsilon) \\leq A \\exp\\{- \\alpha N\\}, N \\geq 1 \\tag{2.2}$$\n",
    "where $A > 0$ and $\\alpha > 0$ are constants that do not depend on $N$. \n",
    "\n",
    "The book proves a similar inequality in section 2.2. \n",
    "\n",
    "\n",
    "We will use this fact to prove the following remarkable property:\n",
    "\n",
    "**Theorem (SLLN)**\n",
    "\n",
    "One has\n",
    "$$\\frac{X(N)}{N} \\to p \\mbox{ as } N \\to \\infty.$$\n",
    "\n",
    "The figure below illustrates that property, called the **Strong Law of Large Numbers**."
   ]
  },
  {
   "cell_type": "code",
   "execution_count": 3,
   "metadata": {
    "collapsed": false
   },
   "outputs": [
    {
     "data": {
      "image/png": "[encoded data removed]",
      "text/plain": [
       "<matplotlib.figure.Figure at 0x10eab1fd0>"
      ]
     },
     "metadata": {},
     "output_type": "display_data"
    }
   ],
   "source": [
    "%matplotlib inline\n",
    "from IPython.core.pylabtools import figsize\n",
    "import numpy as np\n",
    "from matplotlib import pyplot as plt\n",
    "figsize(8, 6)\n",
    "\n",
    "import scipy.stats as stats\n",
    "\n",
    "from ipywidgets import *\n",
    "from IPython.display import display\n",
    "\n",
    "w1 = widgets.IntSlider(description='N', min = 10, max = 500, step = 10, value = 100)\n",
    "w2 = widgets.FloatSlider(description='p', min = 0.1, max = 0.9, step = 0.1, value = 0.5)\n",
    "\n",
    "def SLLN_demo(N,p):\n",
    "    a = np.arange(0.0,N)\n",
    "    b = np.arange(0.0,N)\n",
    "    c = np.arange(0.0, N)\n",
    "    b[0]= np.random.binomial(1,p)\n",
    "    c[0] = p\n",
    "    for i in range(0,N-1):\n",
    "        b[i+1] = (b[i]*(i+1) + np.random.binomial(1,p))/(i+2)\n",
    "        c[i+1] = p\n",
    "    colours = [\"b\",\"g\",\"r\"]\n",
    "    plt.plot(a, b, color=colours[1],label=\"simulation\")\n",
    "    plt.plot(a, c, color=colours[2],label=\"p\")\n",
    "    d = [0, N/10, 2*N/10, 3*N/10, 4*N/10, 5*N/10, 6*N/10, 7*N/10, 8*N/10, 9*N/10, N]\n",
    "    plt.xticks(d)\n",
    "    plt.legend()\n",
    "    plt.ylabel(\"Fraction\")\n",
    "    plt.xlabel(\"$n$\")\n",
    "    plt.title(\"Fraction of heads in $n$ flips, for $n = 1, \\ldots, N$\")\n",
    "    \n",
    "z = widgets.interactive(SLLN_demo, N = w1, p = w2)\n",
    "display(z)"
   ]
  },
  {
   "cell_type": "markdown",
   "metadata": {},
   "source": [
    "The SLLN says that, as you keep on flipping the coin, the fraction $X(N)/N$ approaches $p$, for **any experiment**.  The inequality (2.1) says that for most experiments $X(N)/N$ is close to $p$.  The SLLN says that for all experiments, $X(N)/N$ gets closer and closer to $p$.\n",
    "\n",
    "The proof of this result is based on the lemma below."
   ]
  },
  {
   "cell_type": "markdown",
   "metadata": {},
   "source": [
    "### Borel-Cantelli: Don't Push Your Luck!\n",
    "\n",
    "This result says that your luck will run out if you push it too far!  \n",
    "\n",
    "**Borel-Cantelli Lemma:** Assume that event $n$ occurs with probability $p_n$, for $n = 1, 2, \\ldots$.  If $\\sum_{n=1}^\\infty p_n < \\infty$, then only finitely many of the events occur. Moreover, if the events are independent and if $\\sum_n p_n = \\infty$, then infinitely many of the events occur. See the book for a proof of the lemma.\n",
    "  \n",
    "As an example, say that coin $n$ has a probability $p_n$ of heads.  We flip the coins $0, 1, 2, \\ldots, n$\n",
    "and collect $X_n$ heads.  The B-C lemma says that if $\\sum_n p_n < \\infty$, then $X_n$ eventually stops growing and that $X_n \\to \\infty$ if $\\sum_n p_n = \\infty$,\n",
    "\n",
    "\n",
    "We do the experiment below in two cases: \n",
    "\n",
    "* In case (a), $p_n = 1/(n+1)$\n",
    "\n",
    "* In case (b), $p_n 2^{- 0.01n}$ for $n = 0, 1, \\ldots$.\n"
   ]
  },
  {
   "cell_type": "code",
   "execution_count": 4,
   "metadata": {
    "collapsed": false
   },
   "outputs": [
    {
     "data": {
      "image/png": "[encoded data removed]",
      "text/plain": [
       "<matplotlib.figure.Figure at 0x10cea44a8>"
      ]
     },
     "metadata": {},
     "output_type": "display_data"
    }
   ],
   "source": [
    "%matplotlib inline\n",
    "from IPython.core.pylabtools import figsize\n",
    "import numpy as np\n",
    "from matplotlib import pyplot as plt\n",
    "from matplotlib.ticker import MaxNLocator\n",
    "from matplotlib.pyplot import figure, show\n",
    "figsize(8, 6)\n",
    "\n",
    "import scipy.stats as stats\n",
    "\n",
    "from ipywidgets import *\n",
    "from IPython.display import display\n",
    "\n",
    "w1 = widgets.IntSlider(description='N', min = 10, max = 500, step = 10, value = 100)\n",
    "w2 = widgets.FloatSlider(description='p', min = 0.1, max = 0.9, step = 0.1, value = 0.5)\n",
    "\n",
    "def BC_demo(w):\n",
    "    N = 10**5\n",
    "    a = np.arange(0.0,N)\n",
    "    b = np.arange(0,N)    \n",
    "    b[0]= 1    \n",
    "    for n in range(0,N-1):\n",
    "        if w == '(a)':\n",
    "            p = 1/(1+n)\n",
    "        elif w == '(b)':\n",
    "            p = 2**(- 0.01*n)\n",
    "            #p = (1 + n)**(-2)\n",
    "            \n",
    "        b[n+1] = b[n] + np.random.binomial(1,p)\n",
    "    ax = figure().gca()\n",
    "    ax.yaxis.set_major_locator(MaxNLocator(integer=True))\n",
    "    plt.ylabel(\"Number of heads\")\n",
    "    plt.xlabel(\"$n$\")\n",
    "    plt.title(\"Number of heads in $n$ flips, for $n = 1, \\ldots, N$\") \n",
    "    plt.plot(a, b, color='b',label=\"simulation\")        \n",
    "    plt.legend()\n",
    "    d =[0, N/10, 2*N/10, 3*N/10, 4*N/10, 5*N/10, 6*N/10, 7*N/10, 8*N/10, 9*N/10, N]\n",
    "    d = list(d)\n",
    "    d = [int(x) for x in d]\n",
    "    ax.set_xticklabels(d)\n",
    "    \n",
    "    \n",
    "    \n",
    "    \n",
    "u = widgets.ToggleButtons(options=['(a)', '(b)'],\n",
    "    description='Case:',\n",
    "    disabled=False,\n",
    "    button_style='info', \n",
    "    tooltip='Description',\n",
    "#     icon='check'\n",
    ")\n",
    "\n",
    "z = widgets.interactive(BC_demo, w = u) \n",
    "display(z)  \n",
    "        "
   ]
  },
  {
   "cell_type": "markdown",
   "metadata": {},
   "source": [
    "Thus, in case (a), $\\sum_n p_n = \\infty$ and, the coin flips being independent, B-C tells us that infinitely many coins yield heads.  In case (b), $\\sum_n p_n < \\infty$ and B-C states that only finitely many coins yield heads.  This result may not be very intuitive: it states that, in case (b), as you keep flipping coins forever, your luck runs out after a finite number of flips and you will never succeed thereafter!  (You may have to try (a) a number of times to see that $X_n$ keeps on growing.)"
   ]
  },
  {
   "cell_type": "markdown",
   "metadata": {},
   "source": [
    "### SLLN and Borel-Cantelli\n",
    "\n",
    "Let us apply B-C to prove the SLLN for the coin flips. \n",
    "\n",
    "Using (2.2) and B-C, we see that $\\{|\\frac{X(N)}{N} - p| > \\epsilon\\}$ occurs for finitely many $N$'s.  Hence, there is some $N_0$ such that, for all $N \\geq N_0$, one has $|\\frac{X(N)}{N} - p| > \\epsilon$.  Since $\\epsilon > 0$ is arbitrary, this proves that $X(N)/N \\to p$ as $N \\to \\infty$."
   ]
  },
  {
   "cell_type": "markdown",
   "metadata": {},
   "source": [
    "### SLLN for i.i.d. Random Variables\n",
    "\n",
    "Let $Y_1, Y_2, \\ldots$ be independent and identically distributed random variables.  Let also $X(N) = Y_1 + \\cdots + Y_N$.  Then, under a weak condition,\n",
    "$$\\frac{X(N)}{N} \\to E(Y_1) \\mbox{ as } N \\to \\infty. \\tag{2.4}$$\n",
    "\n",
    "The book proves that result assuming that $E(Y_1^4) < \\infty$.  Using that assumption, one shows that\n",
    "$$P(| \\frac{X(N)}{N} - E(Y_1)| \\geq \\epsilon) \\leq \\frac{A}{N^2} \\tag{2.5}$$\n",
    "for some constant $A$ that does not depend on $N$.  Since these probabilities have a finite sum over $N$, one can use the same argument as for coin flips to prove (2.4)."
   ]
  },
  {
   "cell_type": "markdown",
   "metadata": {},
   "source": [
    "### SLLN for Markov Chains\n",
    "\n",
    "As we saw in Chapter 1, if a Markov chain is irreducible, the fraction of time it spends in state $i$ converges to $\\pi(i)$, the invariant probability of that state.  Recall that we find $\\pi$ by solving the balance equations $\\pi = \\pi P$.\n",
    "\n",
    "The proof of the theorem looks that the successive times $\\tau, \\tau + T_1, \\tau + T_1 + T_2, \\ldots$ when the Markov chain returns to state $i$.  The random variables $T_1, T_2, \\ldots$ are independent and identically distributed because the Markov chain restarts afresh whenever it enters state $i$.  Consequently, the SLLN holds for these times, and this shows that the time for $n$ successive visits to state $i$ is roughly $n E(T_1)$, which proves that the fraction of time in state $i$ converges to $1/E(T_1)$.  One can then show that these limiting fractions of time solve the balance equations and, therefore, $1/E(T_1) = \\pi(i)$."
   ]
  },
  {
   "cell_type": "markdown",
   "metadata": {},
   "source": [
    "\n"
   ]
  },
  {
   "cell_type": "code",
   "execution_count": null,
   "metadata": {
    "collapsed": true
   },
   "outputs": [],
   "source": []
  }
 ],
 "metadata": {
  "kernelspec": {
   "display_name": "Python 3",
   "language": "python",
   "name": "python3"
  },
  "language_info": {
   "codemirror_mode": {
    "name": "ipython",
    "version": 3
   },
   "file_extension": ".py",
   "mimetype": "text/x-python",
   "name": "python",
   "nbconvert_exporter": "python",
   "pygments_lexer": "ipython3",
   "version": "3.6.0"
  },
  "widgets": {
   "state": {
    "0e292bcb082a4f76bcfe6bd9eb058a22": {
     "views": [
      {
       "cell_index": 5
      }
     ]
    },
    "7d5662e713d741138159d40c9f0583d3": {
     "views": [
      {
       "cell_index": 8
      }
     ]
    },
    "9a8bdac24fca4706b9b823a7de58772a": {
     "views": [
      {
       "cell_index": 3
      }
     ]
    }
   },
   "version": "1.2.0"
  }
 },
 "nbformat": 4,
 "nbformat_minor": 0
}
