{
 "cells": [
  {
   "cell_type": "markdown",
   "metadata": {},
   "source": [
    "# PEECS-nb  \n",
    "\n",
    "### An iPython Notebook for \"Probability in EECS - An Application-Driven Course\"\n",
    "-------------------------------------------------------------------"
   ]
  },
  {
   "cell_type": "markdown",
   "metadata": {},
   "source": [
    "## Using the notebook\n",
    "-------\n",
    "\n",
    "* You should install **FFmpeg**: https://ffmpeg.org  \n",
    "\n",
    "* A simple way to do this is to first install **Homebrew**: https://brew.sh and then to run *brew install ffmpeg* from the terminal.\n",
    "\n",
    "* You should also install **matplotlib**.  Here is how to do it for MAC OSX:\n",
    "\n",
    "Installing OSX binary wheels\n",
    "If you are using recent Python from https://www.python.org, Macports or Homebrew, then you can use the standard pip installer to install matplotlib binaries in the form of wheels.\n",
    "\n",
    "Python.org Python\n",
    "\n",
    "Install pip following the standard pip install instructions. For the impatient, open a new Terminal.app window and:\n",
    "https://bootstrap.pypa.io/get-pip.py\n",
    "Then (Python 2.7):\n",
    "\n",
    "python get-pip.py\n",
    "or (Python 3):\n",
    "\n",
    "python3 get-pip.py\n",
    "You can now install matplotlib and all its dependencies with:\n",
    "\n",
    "pip install matplotlib\n",
    "\n",
    "For other OS: See\n",
    "\n",
    "## Preface\n",
    "-------\n",
    "* This iPython notebook is designed to accompany the texbook with the same name published by Amazon in 2017 (second edition).  \n",
    "\n",
    "* The notebook is interactive and enables the user to experiment.\n",
    "\n",
    "* Your comments on the notebook are welcome at walrand@berkeley.edu\n",
    "\n",
    "* The author thanks his colleagues Kannan Ramchandran and Abhay Parekh who have used the textbook in their classes and their TAs for developing many laboratory projects for this material.  "
   ]
  },
  {
   "cell_type": "code",
   "execution_count": null,
   "metadata": {
    "collapsed": false
   },
   "outputs": [],
   "source": [
    "from IPython.core.display import HTML\n",
    "\n",
    "\n",
    "def css_styling():\n",
    "    styles = open(\"../styles/custom.css\", \"r\").read()\n",
    "    return HTML(styles)\n",
    "css_styling()\n"
   ]
  },
  {
   "cell_type": "code",
   "execution_count": null,
   "metadata": {
    "collapsed": true
   },
   "outputs": [],
   "source": []
  }
 ],
 "metadata": {
  "kernelspec": {
   "display_name": "Python 3",
   "language": "python",
   "name": "python3"
  },
  "language_info": {
   "codemirror_mode": {
    "name": "ipython",
    "version": 3
   },
   "file_extension": ".py",
   "mimetype": "text/x-python",
   "name": "python",
   "nbconvert_exporter": "python",
   "pygments_lexer": "ipython3",
   "version": "3.6.0"
  }
 },
 "nbformat": 4,
 "nbformat_minor": 0
}
