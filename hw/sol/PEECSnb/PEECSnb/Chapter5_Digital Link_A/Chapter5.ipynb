{
 "cells": [
  {
   "cell_type": "markdown",
   "metadata": {},
   "source": [
    "# 5. Digital Link A \n",
    "---------------------------------------------\n"
   ]
  },
  {
   "cell_type": "code",
   "execution_count": 6,
   "metadata": {
    "collapsed": false
   },
   "outputs": [
    {
     "data": {
      "text/html": [
       "<style>\n",
       "</style>\n",
       "<script>\n",
       "  function code_toggle() {\n",
       "    if (code_shown){\n",
       "      $('div.input').hide('500');\n",
       "      $('#toggleButton').val('Show Code')\n",
       "    } else {\n",
       "      $('div.input').show('500');\n",
       "      $('#toggleButton').val('Hide Code')\n",
       "    }\n",
       "    code_shown = !code_shown\n",
       "  }\n",
       "\n",
       "  $( document ).ready(function(){\n",
       "    code_shown=false;\n",
       "    $('div.input').hide()\n",
       "  });\n",
       "</script>\n",
       "<form action=\"javascript:code_toggle()\"><input type=\"submit\" id=\"toggleButton\" value=\"Show Code\"></form>\n",
       "<script>\n",
       "    // AUTORUN ALL CELLS ON NOTEBOOK-LOAD!\n",
       "    require(\n",
       "        ['base/js/namespace', 'jquery'], \n",
       "        function(jupyter, $) {\n",
       "            $(jupyter.events).on(\"kernel_ready.Kernel\", function () {\n",
       "                console.log(\"Auto-running all cells-below...\");\n",
       "                jupyter.actions.call('jupyter-notebook:run-all-cells-below');\n",
       "                jupyter.actions.call('jupyter-notebook:save-notebook');\n",
       "            });\n",
       "        }\n",
       "    );\n",
       "</script>\n",
       "\n",
       "\n",
       "\n"
      ],
      "text/plain": [
       "<IPython.core.display.HTML object>"
      ]
     },
     "execution_count": 6,
     "metadata": {},
     "output_type": "execute_result"
    }
   ],
   "source": [
    "from IPython.core.display import HTML\n",
    "\n",
    "\n",
    "def css_styling():\n",
    "    styles = open(\"../styles/custom.css\", \"r\").read()\n",
    "    return HTML(styles)\n",
    "css_styling()"
   ]
  },
  {
   "cell_type": "markdown",
   "metadata": {},
   "source": [
    "### Comments\n",
    "\n",
    "This chapter discusses useful approximation results: it provides other illustrations of the CLT, shows how the exponential distribution approaches the geometric distribution, and how the Poisson distribution approaches the binomial distribution.\n",
    "\n",
    "## 5.1 Huffman Encoding\n",
    "\n",
    "Recall that the Huffman encoding assigns a binary string to each symbol in a prefix-free way so that the average number of bits per symbol is minimized.  Prefix-free means that one can recover the sequence of symbols uniquely from the concatenation of their codes.\n",
    "\n",
    "The code below is from rosettacode.org."
   ]
  },
  {
   "cell_type": "code",
   "execution_count": 7,
   "metadata": {
    "collapsed": false
   },
   "outputs": [
    {
     "name": "stdout",
     "output_type": "stream",
     "text": [
      "Type an arbitrary text in the box above.  Upon \"return\", you will get the corresponding Huffman code.\n"
     ]
    },
    {
     "ename": "NameError",
     "evalue": "name 'symb2freq' is not defined",
     "output_type": "error",
     "traceback": [
      "\u001b[0;31m---------------------------------------------------------------------------\u001b[0m",
      "\u001b[0;31mNameError\u001b[0m                                 Traceback (most recent call last)",
      "\u001b[0;32m<ipython-input-7-e832745c6d63>\u001b[0m in \u001b[0;36mhandle_submit\u001b[0;34m(sender)\u001b[0m\n\u001b[1;32m     42\u001b[0m \u001b[0;34m\u001b[0m\u001b[0m\n\u001b[1;32m     43\u001b[0m \u001b[0;32mdef\u001b[0m \u001b[0mhandle_submit\u001b[0m\u001b[0;34m(\u001b[0m\u001b[0msender\u001b[0m\u001b[0;34m)\u001b[0m\u001b[0;34m:\u001b[0m\u001b[0;34m\u001b[0m\u001b[0m\n\u001b[0;32m---> 44\u001b[0;31m     \u001b[0mHUFF\u001b[0m\u001b[0;34m(\u001b[0m\u001b[0mtxt\u001b[0m \u001b[0;34m=\u001b[0m \u001b[0mtext\u001b[0m\u001b[0;34m.\u001b[0m\u001b[0mvalue\u001b[0m\u001b[0;34m)\u001b[0m\u001b[0;34m\u001b[0m\u001b[0m\n\u001b[0m\u001b[1;32m     45\u001b[0m \u001b[0;34m\u001b[0m\u001b[0m\n\u001b[1;32m     46\u001b[0m \u001b[0mtext\u001b[0m\u001b[0;34m.\u001b[0m\u001b[0mon_submit\u001b[0m\u001b[0;34m(\u001b[0m\u001b[0mhandle_submit\u001b[0m\u001b[0;34m)\u001b[0m\u001b[0;34m\u001b[0m\u001b[0m\n",
      "\u001b[0;32m<ipython-input-7-e832745c6d63>\u001b[0m in \u001b[0;36mHUFF\u001b[0;34m(txt)\u001b[0m\n\u001b[1;32m     26\u001b[0m \u001b[0;32mdef\u001b[0m \u001b[0mHUFF\u001b[0m\u001b[0;34m(\u001b[0m\u001b[0mtxt\u001b[0m\u001b[0;34m)\u001b[0m\u001b[0;34m:\u001b[0m\u001b[0;34m\u001b[0m\u001b[0m\n\u001b[1;32m     27\u001b[0m     \u001b[0;32mfor\u001b[0m \u001b[0mch\u001b[0m \u001b[0;32min\u001b[0m \u001b[0mtxt\u001b[0m\u001b[0;34m:\u001b[0m\u001b[0;34m\u001b[0m\u001b[0m\n\u001b[0;32m---> 28\u001b[0;31m         \u001b[0msymb2freq\u001b[0m\u001b[0;34m[\u001b[0m\u001b[0mch\u001b[0m\u001b[0;34m]\u001b[0m \u001b[0;34m+=\u001b[0m \u001b[0;36m1\u001b[0m\u001b[0;34m\u001b[0m\u001b[0m\n\u001b[0m\u001b[1;32m     29\u001b[0m         \u001b[0;31m# in Python 3.1+:\u001b[0m\u001b[0;34m\u001b[0m\u001b[0;34m\u001b[0m\u001b[0m\n\u001b[1;32m     30\u001b[0m         \u001b[0;31m# symb2freq = collections.Counter(txt)\u001b[0m\u001b[0;34m\u001b[0m\u001b[0;34m\u001b[0m\u001b[0m\n",
      "\u001b[0;31mNameError\u001b[0m: name 'symb2freq' is not defined"
     ]
    }
   ],
   "source": [
    "import numpy as np\n",
    "from heapq import heappush, heappop, heapify\n",
    "from collections import defaultdict\n",
    "from ipywidgets import *\n",
    "from IPython.display import display\n",
    "from IPython.core.pylabtools import figsize\n",
    "\n",
    " \n",
    "def encode(symb2freq):\n",
    "    \"\"\"Huffman encode the given dict mapping symbols to weights\"\"\"\n",
    "    heap = [[wt, [sym, \"\"]] for sym, wt in symb2freq.items()]\n",
    "    heapify(heap)\n",
    "    while len(heap) > 1:\n",
    "        lo = heappop(heap)\n",
    "        hi = heappop(heap)\n",
    "        for pair in lo[1:]:\n",
    "            pair[1] = '0' + pair[1]\n",
    "        for pair in hi[1:]:\n",
    "            pair[1] = '1' + pair[1]\n",
    "        heappush(heap, [lo[0] + hi[0]] + lo[1:] + hi[1:])\n",
    "    return sorted(heappop(heap)[1:], key=lambda p: (len(p[-1]), p))\n",
    " \n",
    "#txt = \"this is an example for huffman encoding\"\n",
    "#symb2freq = defaultdict(int)\n",
    "\n",
    "def HUFF(txt):\n",
    "    for ch in txt:\n",
    "        symb2freq[ch] += 1\n",
    "        # in Python 3.1+:\n",
    "        # symb2freq = collections.Counter(txt)\n",
    "    huff = encode(symb2freq)\n",
    "    print (\"Symbol\\tWeight\\tHuffman Code\")\n",
    "    for p in huff:\n",
    "        print ((p[0], symb2freq[p[0]], p[1]))\n",
    "    \n",
    "    \n",
    "\n",
    "text = widgets.Text(layout=Layout(width='100%'))\n",
    "display(text)\n",
    "\n",
    "print('Type an arbitrary text in the box above.  Upon \"return\", you will get the corresponding Huffman code.')\n",
    "\n",
    "def handle_submit(sender):\n",
    "    HUFF(txt = text.value)\n",
    "\n",
    "text.on_submit(handle_submit)"
   ]
  },
  {
   "cell_type": "markdown",
   "metadata": {},
   "source": [
    "## 5.2 Digital Link\n",
    "\n",
    "Consider a digital link that operates as follows.  The input is a random string of i.i.d. symbols $X_n$ that are $B(0.5)$.  To send $X_n$, the transmitter sends the signal $2X_n - 1$.  That is, it sends $-1$ to transmit a bit $0$ and $+1$ to transmit a bit $1$. The channel adds an i.i.d. ${\\cal N}(0, \\sigma^2)$ noise $Z_n$ to $2X_n - 1$. \n",
    "\n",
    "By symmetry, the MAP of $X_n$ given $Y_n = 2X_n - 1 + Z_n$ is $R_n = 1\\{Y_n > 0\\}$.\n",
    "Moreover, the resulting bit error rate (BER) is given by $P({\\cal N}(0,\\sigma^2) > 1$.\n",
    "\n",
    "![title](Figs/Dlink.pdf)\n",
    "\n",
    "In the code below, we simulate the link."
   ]
  },
  {
   "cell_type": "code",
   "execution_count": 8,
   "metadata": {
    "collapsed": false
   },
   "outputs": [
    {
     "data": {
      "image/png": "[encoded data removed]",
      "text/plain": [
       "<matplotlib.figure.Figure at 0x10de22a90>"
      ]
     },
     "metadata": {},
     "output_type": "display_data"
    }
   ],
   "source": [
    "%matplotlib inline\n",
    "from IPython.core.pylabtools import figsize\n",
    "from IPython.display import clear_output\n",
    "import numpy as np\n",
    "from scipy.stats import norm\n",
    "from scipy.stats import binom\n",
    "import scipy.stats as stats\n",
    "\n",
    "from matplotlib import pyplot as plt\n",
    "figsize(14, 6)\n",
    "\n",
    "import scipy.stats as stats\n",
    "\n",
    "from ipywidgets import *\n",
    "from IPython.display import display\n",
    "\n",
    "def DLINK(A): \n",
    "    S = 200\n",
    "    a = np.arange(0.0, S)\n",
    "    x = np.arange(0.0, S)\n",
    "    y = np.arange(0.0, S)\n",
    "    v = np.arange(0.0, S)\n",
    "    s = np.arange(0.0, S)\n",
    "    u = np.arange(0.0, S)\n",
    "    \n",
    "    F = 1 - norm.cdf(1, 0, A)\n",
    "    for i in range(0,S):\n",
    "        a[i] = i\n",
    "        x[i] = np.random.binomial(1,0.5)\n",
    "        y[i] = 2*x[i] - 1 + np.random.normal(0,A)\n",
    "        v[i] = (y[i]>0)\n",
    "        u[i] = F\n",
    "    s[0] = 1 - (x[i]==v[i])\n",
    "    for i in range(1,S):\n",
    "        s[i] = (i*s[i-1] + 1 - (v[i]==x[i]))/(i+1)\n",
    "    plt.plot(a, s, color='r',label=\"Fraction of incorrectly received bit$\") \n",
    "    plt.plot(a, x, 'bo', color='b',label=\"Transmitted bits $X_n$\")\n",
    "    plt.plot(a, 0.03 + 0.94*v, 'bo', color='g',label=\"Received bits $R_n$\")\n",
    "    plt.plot(a, u, color='black',label=\"Expected BER\")\n",
    "    plt.legend()\n",
    "    plt.xlabel(\"$n$\")\n",
    "    plt.title(\"Transmitted and Received Bits\")\n",
    "V2 = widgets.FloatSlider(description='$\\sigma$', min = 0.1 , max = 3, step = 0.1, value = 0.8)\n",
    "z = widgets.interactive(DLINK, A=V2) \n",
    "display(z)"
   ]
  },
  {
   "cell_type": "markdown",
   "metadata": {},
   "source": [
    "## 5.2 QPSK\n",
    "\n",
    "In the previous model, the link transmits two different values: one for each bit $0$ or $1$.  Modern links use a more efficient scheme.  For instance, **quadrature phase shift keying (QPSK)** transmits $k$ bits at a time.  Each $k$-bit string is transmitted as one of $2^k$ different signals.  Each signal has the form $a_i \\cos(2 \\pi ft) + b_i \\sin(2 \\pi ft)$ where $(a_i,b_i)$ depend on the bit string.  Thus, there are $2^k$ different pairs $(a_i, b_i)$, one for each of the $2^k$ string of $k$ bits. The transmitter sends that signal for $T$ seconds.  The receiver measures the coefficients $(a, b)$ and determines which of the $k$-bit strings was transmitted.  Because of noise, when the transmitter sends a pair $(a_i, b_i)$, the receiver gets $(a', b') = (a_i + v_1, b_i + v_2)$ where $v_1$ and $v_2$ are independent ${\\cal N}(0, \\sigma^2)$ random variables. The receiver determines the pair $(a_j, b_j)$ that is closest to $(a', b')$.  If this pair is $(a_i, b_i)$, the receiver guesses correctly the $k$ bits that the transmitter sent.  Otherwise, the receiver makes a mistake.  The figure below illustrates the process.\n",
    "\n",
    "![title](Figs/QPSK.pdf)\n",
    "\n",
    "In the figure where $k = 3$, the transmitter sends the bits $000$ by choosing the values $a = 1, b = 0$.  Noise modifies these values and the receiver gets the pair $(a', b')$ indicated by the red point.  The receiver finds which of the eight pairs $(a_i, b_i)$ is closest to the red point.  In this example, this is the green pair that corresponds to the string $001$.  Thus, the receiver makes a mistake.  \n",
    "\n",
    "The code below simulates the process. At each step, the transmitter sends one of the $K = 2^k$ pairs, with equal probabilities.  The noise perturbs that pair.  The receiver makes a mistake if it receives a pair that is closer to a point different from the one transmitted.  For the simulation, by symmetry, the transmitter always sends $(1, 0)$.  The receiver gets $(1 + v_1, v_2)$ and finds the value of $i$ that minimizes $\\|(a_i, b_i) - (1 + v_1, v_2)\\|^2$ where $a_i = \\cos(2\\pi i/K)$ and $b_i = \\sin(2 \\pi i/K)$ for $i = 0, 1, \\ldots, K-1$.  The receiver does not make a mistake if the minimizer is $i = 0$.\n",
    "\n",
    "To compare the error rate of different values of $k$, one has to note that the variance of the noise should be $\\sigma^2/k$.  The reason is that the receiver computes the average value of the signal over the duration $T$ of the transmission of the bit string.  This duration increases in proportion to $k$.  Consequently, the average value of the noise looks like $(Z_1 + \\cdots + Z_k)/k$ where the $Z_j$ are the values of the noise during each bit transmission.  If the variance of each $Z_j$ is $\\sigma^2$, the variance of $(Z_1 + \\cdots + Z_k)/k$ is $\\sigma^2/k$."
   ]
  },
  {
   "cell_type": "code",
   "execution_count": 9,
   "metadata": {
    "collapsed": false
   },
   "outputs": [
    {
     "name": "stdout",
     "output_type": "stream",
     "text": [
      "0\n"
     ]
    }
   ],
   "source": [
    "k = 3\n",
    "K = 2**k\n",
    "e = np.arange(0.0,K)\n",
    "print(np.argmin(e))\n"
   ]
  },
  {
   "cell_type": "code",
   "execution_count": 10,
   "metadata": {
    "collapsed": false
   },
   "outputs": [
    {
     "data": {
      "image/png": "[encoded data removed]",
      "text/plain": [
       "<matplotlib.figure.Figure at 0x10df75e48>"
      ]
     },
     "metadata": {},
     "output_type": "display_data"
    }
   ],
   "source": [
    "%matplotlib inline\n",
    "from IPython.core.pylabtools import figsize\n",
    "from IPython.display import clear_output\n",
    "import numpy as np\n",
    "from scipy.stats import norm\n",
    "from scipy.stats import binom\n",
    "import scipy.stats as stats\n",
    "\n",
    "from matplotlib import pyplot as plt\n",
    "figsize(8, 6)\n",
    "\n",
    "import scipy.stats as stats\n",
    "\n",
    "from ipywidgets import *\n",
    "from IPython.display import display\n",
    "\n",
    "def QPSK(sig,k): \n",
    "    N = 1000\n",
    "    a = np.arange(0.0, N+1)\n",
    "    s = np.arange(0.0, N+1)\n",
    "    c = np.arange(0.0, N+1)\n",
    "    K = int(2**k)\n",
    "    a1 = np.arange(0.0, K)  # x-coordinate of dots\n",
    "    a2 = np.arange(0.0, K)  # y-coordinate of dots\n",
    "    e = np.arange(0.0,K) # errors\n",
    "    g = 2*np.pi/K\n",
    "    for i in range (0,K):\n",
    "        a1[i] = np.cos(i*g)\n",
    "        a2[i] = np.sin(i*g)\n",
    "    A = sig/(k**0.5)\n",
    "    s[0] = 0\n",
    "    c[0] = 0\n",
    "    a[0] = 0\n",
    "    for n in range(0,N):\n",
    "        a[n+1] = n+1\n",
    "        for i in range(0,K):\n",
    "            e[i] = (1+np.random.normal(0,A) - a1[i])**2 + (np.random.normal(0,A) - a2[i])**2\n",
    "        y = np.argmin(e)       \n",
    "        s[n+1] = ((n+1)*s[n] + 1 - (y == 0))/(n+2)\n",
    "        c[n+1] = 1 - (y == 0)\n",
    "    plt.plot(a, s, color='r',label=\"Fraction of errors\") \n",
    "    plt.plot(a, 0.1*c, 'bo', color='b',label=\"0 = Correct, 0.1 = Error\")\n",
    "    plt.legend()\n",
    "    plt.xlabel(\"$n$\")\n",
    "    plt.title(\"Errors and Fraction of Errors\")\n",
    "W1 = widgets.FloatSlider(description='$\\sigma$', min = 0.1, max = 3, step = 0.1, value = 0.8)\n",
    "W2 = widgets.IntSlider(description='$k$', min = 1 , max = 5, step = 1, value = 2)\n",
    "z = widgets.interactive(QPSK, sig=W1,k=W2) \n",
    "display(z)"
   ]
  },
  {
   "cell_type": "code",
   "execution_count": null,
   "metadata": {
    "collapsed": true
   },
   "outputs": [],
   "source": []
  }
 ],
 "metadata": {
  "kernelspec": {
   "display_name": "Python 3",
   "language": "python",
   "name": "python3"
  },
  "language_info": {
   "codemirror_mode": {
    "name": "ipython",
    "version": 3
   },
   "file_extension": ".py",
   "mimetype": "text/x-python",
   "name": "python",
   "nbconvert_exporter": "python",
   "pygments_lexer": "ipython3",
   "version": "3.6.0"
  },
  "widgets": {
   "state": {
    "2bfd37a3ba5444b3920cf71738dba7fc": {
     "views": [
      {
       "cell_index": 3
      }
     ]
    },
    "8139a7418ad14e0a9f04b9ea639d2150": {
     "views": [
      {
       "cell_index": 5
      }
     ]
    },
    "abc6a8c66c2f4097a22d1b260e764330": {
     "views": [
      {
       "cell_index": 8
      }
     ]
    }
   },
   "version": "1.2.0"
  }
 },
 "nbformat": 4,
 "nbformat_minor": 0
}
