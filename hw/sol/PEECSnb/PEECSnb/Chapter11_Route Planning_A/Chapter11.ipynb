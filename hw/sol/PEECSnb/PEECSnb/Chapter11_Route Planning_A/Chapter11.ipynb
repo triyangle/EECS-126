{
 "cells": [
  {
   "cell_type": "markdown",
   "metadata": {},
   "source": [
    "# Chapter 11. Route Planning A \n",
    "---------------------------------------------\n"
   ]
  },
  {
   "cell_type": "code",
   "execution_count": 6,
   "metadata": {
    "collapsed": false
   },
   "outputs": [
    {
     "data": {
      "text/html": [
       "<style>\n",
       "</style>\n",
       "<script>\n",
       "  function code_toggle() {\n",
       "    if (code_shown){\n",
       "      $('div.input').hide('500');\n",
       "      $('#toggleButton').val('Show Code')\n",
       "    } else {\n",
       "      $('div.input').show('500');\n",
       "      $('#toggleButton').val('Hide Code')\n",
       "    }\n",
       "    code_shown = !code_shown\n",
       "  }\n",
       "\n",
       "  $( document ).ready(function(){\n",
       "    code_shown=false;\n",
       "    $('div.input').hide()\n",
       "  });\n",
       "</script>\n",
       "<form action=\"javascript:code_toggle()\"><input type=\"submit\" id=\"toggleButton\" value=\"Show Code\"></form>\n",
       "<script>\n",
       "    // AUTORUN ALL CELLS ON NOTEBOOK-LOAD!\n",
       "    require(\n",
       "        ['base/js/namespace', 'jquery'], \n",
       "        function(jupyter, $) {\n",
       "            $(jupyter.events).on(\"kernel_ready.Kernel\", function () {\n",
       "                console.log(\"Auto-running all cells-below...\");\n",
       "                jupyter.actions.call('jupyter-notebook:run-all-cells-below');\n",
       "                jupyter.actions.call('jupyter-notebook:save-notebook');\n",
       "            });\n",
       "        }\n",
       "    );\n",
       "</script>\n",
       "\n",
       "\n",
       "\n"
      ],
      "text/plain": [
       "<IPython.core.display.HTML object>"
      ]
     },
     "execution_count": 6,
     "metadata": {},
     "output_type": "execute_result"
    }
   ],
   "source": [
    "%matplotlib inline\n",
    "from IPython.core.pylabtools import figsize\n",
    "import numpy as np\n",
    "import matplotlib.pyplot as plt\n",
    "import matplotlib.animation as animation\n",
    "import random\n",
    "import numpy.linalg\n",
    "from ipywidgets import *\n",
    "from IPython.display import display\n",
    "from IPython.core.display import HTML\n",
    "from notebook.nbextensions import enable_nbextension \n",
    "\n",
    "\n",
    "def css_styling():\n",
    "    styles = open(\"../styles/custom.css\", \"r\").read()\n",
    "    return HTML(styles)\n",
    "css_styling()\n",
    "\n"
   ]
  },
  {
   "cell_type": "markdown",
   "metadata": {},
   "source": [
    "### Comments\n",
    "\n",
    "Stochastic dynamic programming is a methodology for making sequential decisions in the face of uncertainty.  Route planning is a simple but intuitive example.  Controlling a Markov chain is a more general class of examples called Markov Decision Problems."
   ]
  },
  {
   "cell_type": "markdown",
   "metadata": {},
   "source": [
    "\n",
    "## 11.1 Markov Decision Problems\n",
    "\n",
    "Consider the random sequence $\\{X_n, n \\geq 0\\}$ that takes values in some discrete set ${\\cal X}$ and is such that \n",
    "\n",
    "$$P[X_{n+1} = j \\mid X_n = i, a_n = a] = P(i,j;a), \\mbox{ for }a \\in {\\cal A}(i) \\mbox{ and } i, j \\in {\\cal X}, $$\n",
    "\n",
    "where ${\\cal A}(i)$ is a set of possible values of $a_n$ when $X_n = i$.\n",
    "\n",
    "Thus, $X_n$ behaves like a Markov chain, except that its transition probabilities are \"controlled\" by the actions $a_n$. The goal is to choose the actions $a_n$ to minimize some expected cost that we define next.\n",
    "\n",
    "The simplest formulation is to minimize\n",
    "\n",
    "$$\\sum_{n=0}^N E[c(X_n, a_n)]$$\n",
    "\n",
    "where $c(\\cdot, \\cdot)$ is a given function that represents the cost of taking action $a_n$ when the state\n",
    "is $X_n$.  The main observation is that it is generally not best to be greedy and choose the value of $a_n$\n",
    "that minimizes $c(X_n, a_n)$.  The reason is that a more expensive action $a_n$ might result in a preferable\n",
    "subsequent state $X_{n+1}$.  Thus, short term sacrifices may result in larger overall returns, like going to college.\n",
    "\n",
    "Bellman's breakthrough is to define $V_N(x)$ as the minimum value of that cost given that $X_0 = x$.  The minimum is over the possible choices of the actions as a function of the state and the number of steps to go.  With this definition, one has\n",
    "\n",
    "$$V_{N+1}(x) = \\min_{a \\in {\\cal A}(x)} [c(x, a) + \\sum_y P(x,y;a)V_N(x)].$$\n",
    "\n",
    "When $N \\to \\infty$, it may be that $V_N(x) \\to V(x)$ that then satisfies\n",
    "\n",
    "$$V(x) = \\min_{a \\in {\\cal A}(x)} [c(x, a) + \\sum_y P(x,y;a)V(x)].$$\n",
    "\n",
    "This is the case if, for instance, the Markov chain gets absorbed after a finite mean time in some state where the cost is zero.\n",
    "\n",
    "A small variation is when we consider the discounted cost\n",
    "\n",
    "$$\\sum_{n=0}^N E[\\beta^n c(X_n, a_n)]$$\n",
    "\n",
    "where $\\beta \\in (0, 1)$ is a discount factor.  We then define $V_N(x; \\beta)$ as the minimum value of the cost starting with $X_0 = x$ and one has\n",
    "\n",
    "$$V_{N+1}(x; \\beta) = \\min_{a \\in {\\cal A}(x)} [c(x, a) + \\beta \\sum_y P(x,y;a)V_N(x; \\beta)].$$\n",
    "\n",
    "If the cost $c(\\cdot, \\cdot)$ is bounded, then the cost remains finite as $N \\to \\infty$.  In that case,\n",
    "$V_N(x; \\beta) \\to V(x; \\beta)$ and this limit is such that\n",
    "\n",
    "$$V(x; \\beta) = \\min_{a \\in {\\cal A}(x)} [c(x, a) + \\beta \\sum_y P(x,y;a)V(x; \\beta)].$$\n",
    "\n",
    "In some cases, one may consider a continuous state space.  We will see this in examples.  \n"
   ]
  },
  {
   "cell_type": "markdown",
   "metadata": {},
   "source": [
    "## 11.2 Example 1: How to Gamble, If you Must\n",
    "\n",
    "(We borrow the subtitle of a nice book by Dubbins and Savage.) \n",
    "\n",
    "You play a game of chance. You start with $M$ dollars.  At each step you choose how much to gamble.  If you gamble $a$, you win $a$ with probability $p$ and you lose $a$ otherwise.  Thus, if your fortune is $x$ and you gamble $a \\leq x$, after that step, your fortune is $x + a$ with probability $p$ and $x - a$ with probability $q = 1 - p$.  You cannot gamble more than your current fortune.  Your goal is to maximize the probability that your fortune reaches $F$ for some given $F \\geq M$ before your fortune reaches $0$.\n",
    "\n",
    "How much should you gamble when your fortune is $x$?\n",
    "\n",
    "Let $V(x)$ be the maximum probability of reaching $F$ before $0$, starting with a fortune equal to $x$.  Then, the DPEs are\n",
    "\n",
    "$$V(x) = \\max_{a \\leq x} [pV(x + a) + qV(x - a)].$$\n",
    "\n",
    "Also, $V(0) = 0$ and $V(F) = 1$.  The value $a(x)$ of $a$ that achieves the maximum is the optimal amount to gamble when the fortune is $x$.\n",
    "\n",
    "\n",
    "**Theorem:**\n",
    "\n",
    "If $p \\geq 0.5$, then $a(x) = 1$ for all $x$ is optimal.  One says that **timid play is optimal** when the game is favorable.\n",
    "\n",
    "**Proof:**\n",
    "\n",
    "Let $U(x)$ be the probability of hitting $F$ before $0$ starting from $x$ when choosing $a(x) = 1$ for all $x$.  Then, the first step equations are\n",
    "\n",
    "$$U(x) = pU(x+1) + qU(x-1), 1 \\leq x \\leq F; U(0) = 0, U(F) = 1.$$\n",
    "\n",
    "For $p \\neq q$, the solution can be verified to be \n",
    "\n",
    "$$U(x) = \\frac{ 1- (q/p)^x}{1 - (q/p)^F}.$$\n",
    "\n",
    "Also, when $p > 0.5$, we claim that\n",
    "\n",
    "$$U(x) = pU(x+1) + qU(x-1) \\geq pU(x + a) + qU(x - a), a \\in \\{1, 2, \\ldots, x\\}.$$\n",
    "\n",
    "To see this, note that the expression for $U(x)$ shows that this inequality is equivalent to \n",
    "\n",
    "$$1 = p(q/p) + q(q/p)^{-1} \\leq p(q/p)^a + q(q/p)^{-a}.$$\n",
    "\n",
    "Now, $h(x) := (1/x - 1)^a$ is convex in $x$, which implies that $ph(p) + qh(q) \\geq h((p+q)/2) = 1$.\n",
    "\n",
    "This shows that $U$ satisfies the DPE and also that $a(x) = 1$ is optimal.\n",
    "\n",
    "Unfortunately, the optimal strategy when $p < 0.5$ is more complicated.  We compute it below.\n",
    "\n",
    "**Notes:** \n",
    "\n",
    "* Be patient with the computation when you more the cursors.\n",
    "\n",
    "* For clarity, we plot $V(x) \\times \\max_y \\{a(y)\\}$ instead of $V(x)$."
   ]
  },
  {
   "cell_type": "code",
   "execution_count": null,
   "metadata": {
    "collapsed": true
   },
   "outputs": [],
   "source": []
  },
  {
   "cell_type": "code",
   "execution_count": 7,
   "metadata": {
    "collapsed": false
   },
   "outputs": [
    {
     "data": {
      "image/png": "[encoded data removed]",
      "text/plain": [
       "<matplotlib.figure.Figure at 0x1162d5a90>"
      ]
     },
     "metadata": {},
     "output_type": "display_data"
    }
   ],
   "source": [
    "%matplotlib inline\n",
    "from IPython.core.pylabtools import figsize\n",
    "import numpy as np\n",
    "from matplotlib import pyplot as plt\n",
    "import random\n",
    "from ipywidgets import *\n",
    "from IPython.display import display\n",
    "\n",
    "def MDP1(p,F):  # How to gamble if you must\n",
    "    t = np.arange(0,F+1)\n",
    "    a = np.arange(0.0,F+1)\n",
    "    V = np.arange(0.0,F+1)\n",
    "    W = np.arange(0.0,F+1)\n",
    "    q = 1 - p\n",
    "    \n",
    "    \n",
    "    for x in range(F+1):  # initialize V\n",
    "        V[x] = (x == F) \n",
    "    S = 3*F\n",
    "    W[F] = 1\n",
    "    a[F] = 1\n",
    "    for s in range(S):\n",
    "        for x in range(1,F): # W = max_{1 <= u <= x} [p*V[x+u] + q*V[x-u]]\n",
    "            y = 0.0           \n",
    "            for u in range(1,x+1):\n",
    "                z = p*V[min(F,x+u)] + q*V[x-u]\n",
    "                if z > y + 0.01:\n",
    "                    a[x] = u\n",
    "                    y = z\n",
    "            W[x] = y\n",
    "        V = W\n",
    "        \n",
    "    plt.figure(figsize = (14,6))\n",
    "    pltV, = plt.plot(t,max(a)*V,'r--',label='max(a)*V(x)')\n",
    "    plt.legend()\n",
    "    pltV, = plt.plot(t,a,'b--',label='a(x)')\n",
    "    plt.legend()\n",
    "    plt.title('Value and Actions')\n",
    "    plt.xlabel('x')\n",
    "        \n",
    "\n",
    "\n",
    "u1 = widgets.FloatSlider(description='p', min = 0.0, max = 1, step = 0.05, value = 0.5)\n",
    "u2 = widgets.IntSlider(description='F', min = 10, max = 200, step = 1, value = 100)\n",
    "        \n",
    "z = widgets.interactive(MDP1, p = u1, F = u2,continuous_update=False) \n",
    "display(z)\n",
    "        "
   ]
  },
  {
   "cell_type": "markdown",
   "metadata": {},
   "source": [
    "## 11.3 Example 2: Simplified Farkle\n",
    "\n",
    "Farkle is a dice game where players take turns and can roll the dice multiple times to increase their score but risk not scoring on their round if they push their luck too hard.  \n",
    "\n",
    "The optimal strategy for Farkle is complex, as one player should base his/her choices on the scores of the other players.  Here, we model a highly simplified version of the game with two players and a biased coin such that $P(H) = p$.  We compute the optimal strategy.  The key point of the model is that the amount of risk a player takes should depend on both scores. \n",
    "\n",
    "In our game, a player has a coice of flipping the coin once and get $1$ for $H$ and $0$ for $T$, or to flip the coin twice and get $3$ for $HH$ and $0$ otherwise.  Thus, a player can be timid or bold. The two players take turns and the first one to $F$ wins.\n",
    "\n",
    "Let $(x, y)$ be the current scores of the two players and assume it is player $1$'s turn to play.  Let $V(x,y)$ be his maximum probability of winning the game. Then the DPEs are\n",
    "\n",
    "\\begin{eqnarray*}\n",
    "&& V(x,y) = \\max\\{p(1 - V(y,x+1)) + (1 - p)(1 - V(y,x)), p^2(1 - V(y,x+3)) + (1 - p^2)(1 - V(y,x))\\}, x \\leq F-3, y \\leq F-1\\\\\n",
    "&& V(F-2,y) = \\max\\{p(1 - V(y,F-1)) + (1 - p)(1 - V(y,F-2)), p^2 + (1 - p^2)(1 - V(y,F-2))\\}, y \\leq F-1\\\\\n",
    "&& V(F-1,y) = p + (1 - p)(1 - V(y,F-1)).\n",
    "\\end{eqnarray*}\n",
    "The boundary conditions are $V(F,x) = 1$ and $V(x, F) = 0$ for $x < F$.   \n",
    "\n",
    "These equations are of the form $V = f(V)$.  To solve them, we iterate $V_{n+1} = f(V_n)$, starting with $V_0(x,y) = 1\\{x = F, y < F\\}$.   After solving, we look at the DPEs to determine the winning strategy.\n",
    "Qualitatively, that strategy is \"be timid when ahead and bold when behind.\"\n"
   ]
  },
  {
   "cell_type": "code",
   "execution_count": 42,
   "metadata": {
    "collapsed": false
   },
   "outputs": [
    {
     "name": "stdout",
     "output_type": "stream",
     "text": [
      "In plots below, x is vertical and y is horizontal\n",
      "Top graph: winning Strategy: once if red; twice if green\n",
      "Bottom graph: V(x,y)\n"
     ]
    },
    {
     "data": {
      "image/png": "[encoded data removed]",
      "text/plain": [
       "<matplotlib.figure.Figure at 0x116ca0278>"
      ]
     },
     "metadata": {},
     "output_type": "display_data"
    },
    {
     "data": {
      "image/png": "[encoded data removed]",
      "text/plain": [
       "<matplotlib.figure.Figure at 0x117a090f0>"
      ]
     },
     "metadata": {},
     "output_type": "display_data"
    }
   ],
   "source": [
    "%matplotlib inline\n",
    "from IPython.core.pylabtools import figsize\n",
    "import numpy as np\n",
    "from matplotlib import pyplot as plt\n",
    "from matplotlib import cm\n",
    "import random\n",
    "from ipywidgets import *\n",
    "from IPython.display import display\n",
    "\n",
    "def MDP2(p,F):  # Simplified Farkle\n",
    "    a = np.zeros((F,F))\n",
    "    V = np.zeros((F+1,F+1))\n",
    "    \n",
    "    \n",
    "    for x in range(F+1):  # initialize W\n",
    "        for y in range(F+1):\n",
    "            V[x,y] = (x == F)*(y < F) \n",
    "    \n",
    "    S = 200\n",
    "    for s in range(S):\n",
    "        for y in range(F):\n",
    "            for x in range(F-2):\n",
    "                z1 = p*(1 - V[y,x+1]) + (1 - p)*(1 - V[y,x])\n",
    "                z2 = p**2*(1 - V[y,x+3]) + (1 - p**2)*(1 - V[y,x])\n",
    "                V[x,y] = max(z1,z2)\n",
    "                a[x,y] = (z1 <= z2)\n",
    "            z1 = p*(1 - V[y,F-1]) + (1 - p)*(1 - V[y,F-2])\n",
    "            z2 = p**2 + (1 - p**2)*(1 - V[y,F-2])\n",
    "            V[F-2,y] = max(z1,z2)\n",
    "            a[F-2,y] = (z1 <= z2)\n",
    "            V[F-1,y] = p + (1-p)*(1 - V[y,F-1])\n",
    "            \n",
    "\n",
    "    cmap = plt.cm.jet\n",
    "    cmap1 = cm.get_cmap('RdYlGn', 2)\n",
    "    #cmap1 = cm.get_cmap('PiYG', 2) \n",
    "    cmap2 = cm.get_cmap('PiYG', 11)\n",
    "    print('In plots below, x is vertical and y is horizontal')\n",
    "    print('Top graph: winning Strategy: once if red; twice if green')\n",
    "    print('Bottom graph: V(x,y)')\n",
    "    plt.figure(1)    \n",
    "    plt.imshow(a, aspect='auto', interpolation='none',\n",
    "               cmap = cmap1)\n",
    "    plt.colorbar()\n",
    "    \n",
    "    plt.figure(2)\n",
    "    plt.imshow(V, aspect='auto', interpolation='none',\n",
    "              cmap = cmap2)\n",
    "    plt.colorbar()   \n",
    "\n",
    "\n",
    "u1 = widgets.FloatSlider(description='p', min = 0.0, max = 1, step = 0.05, value = 0.5)\n",
    "u2 = widgets.IntSlider(description='F', min = 10, max = 100, step = 5, value = 60)\n",
    "        \n",
    "z = widgets.interactive(MDP2, p = u1, F = u2, continuous_update=False) \n",
    "display(z)\n",
    "        "
   ]
  },
  {
   "cell_type": "code",
   "execution_count": null,
   "metadata": {
    "collapsed": true
   },
   "outputs": [],
   "source": []
  }
 ],
 "metadata": {
  "celltoolbar": "Raw Cell Format",
  "kernelspec": {
   "display_name": "Python 3",
   "language": "python",
   "name": "python3"
  },
  "language_info": {
   "codemirror_mode": {
    "name": "ipython",
    "version": 3
   },
   "file_extension": ".py",
   "mimetype": "text/x-python",
   "name": "python",
   "nbconvert_exporter": "python",
   "pygments_lexer": "ipython3",
   "version": "3.6.0"
  },
  "widgets": {
   "state": {
    "38813b430a2446de8a62bd0c86ef9e9c": {
     "views": [
      {
       "cell_index": 8
      }
     ]
    },
    "ab84e1cbd4a5464fb1c6a3d50d962f9d": {
     "views": [
      {
       "cell_index": 5
      }
     ]
    }
   },
   "version": "1.2.0"
  }
 },
 "nbformat": 4,
 "nbformat_minor": 0
}
