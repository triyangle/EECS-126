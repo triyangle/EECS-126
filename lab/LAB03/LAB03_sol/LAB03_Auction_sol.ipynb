{
 "cells": [
  {
   "cell_type": "markdown",
   "metadata": {},
   "source": [
    "# SOLD!\n",
    "\n",
    "\n",
    "#### Authors:\n",
    "v1.0 (2016 Spring) Kabir Chandrasekher, Tony Duan, David Marn, Ashvin Nair, Kangwook Lee, and Kannan Ramchandran\n",
    "\n",
    "v1.1 (2017 Spring) Tavor Baharav, Kabir Chandrasekhar, Sinho Chewi, Andrew Liu, Kamil Nar, David Wang, and Kannan Ramchandran\n",
    "\n",
    "v1.2 (2017 Fall) Sinho Chewi, Avishek Ghosh, Chen Meng, Abhay Parekh, and Jean Walrand\n",
    "\n",
    "v1.3 (2018 Spring) Tavor Baharav, Kaylee Burns, Gary Cheng, Sinho Chewi, Hemang Jangle, William Gan, Alvin Kao, Chen Meng, Vrettos Muolos, Kanaad Parvate, Ray Ramamurti\n",
    "\n",
    "## Self Grades: https://goo.gl/forms/vWbahvC7e0ZUF29v2\n",
    "\n",
    "<table>\n",
    "<tr>\n",
    "<td>\n",
    "<img src=\"http://i.imgur.com/M0E5ZbL.jpg\" alt=\"Google Ads\" style=\"width: 450px;\">\n",
    "</td>\n",
    "<td>\n",
    "<img src=\"http://i.imgur.com/uC3mhpk.jpg\" alt=\"FCC Spectrum\" style=\"width: 450px;\">\n",
    "</td>\n",
    "</tr>\n",
    "</table>\n",
    "Be it frequency bandwidth or ads that we \"see\" everyday (thanks Adblock Plus!), we're constantly asking ourselves how to distribute goods in a \"fair\" manner. Optimal allocation of rival goods is a hot question in both theoretical EE research (see research articles by Sahai [[1]](#References) and Harrison [[2]](#References)) and in society as a philosophical conundrum (see books by Nozick [[3]](#References) or Rawles [[4]](#References)).\n",
    "\n",
    "## Introduction\n",
    "\n",
    "If we want to use math and probability to gain some insight into this dilemma, we must first set up a theoretical model of an <b>auction</b> - which is basically a mechanism. \n",
    "\n",
    "An auction has a <b>seller</b>, who is trying to sell <b>one</b> item. Multiple <b>buyers</b> (synonymous with \"bidder\") - there are $n$ of them - are interested in purchasing this item, but the item can only be sold to one buyer. Each buyer associates a value to an item (how much is this item worth <i>to them</i>). These values usually differ and may or may not be independent of one another. Call buyer $i$'s value of an item $x_i$. Each buyer then bids $\\beta_i (x_i)$, a function of $x_i$. This is person $i$'s bidding function. The seller then sells the item to one of the buyers according to some mechanism $M$. \n",
    "\n",
    "<img src=\"http://worldartsme.com/images/auction-gavel-clipart-1.jpg\" alt=\"auction diagram\" style=\"width:100px;\">\n",
    "\n",
    "We will attempt to answer some basic questions about auctions. We are interested in:\n",
    "<ul>\n",
    "<li> Seller revenue, i.e. how much does the seller make?</li>\n",
    "<li> Buyer profit - what, if any, is the difference between the winning bid and the buyer's value of an item? </li> \n",
    "<li> Difference between mechanisms - what difference does the type of auction have on the buyer? What about the seller? How do reserves affect them? </li>\n",
    "</ul>\n",
    "\n"
   ]
  },
  {
   "cell_type": "markdown",
   "metadata": {},
   "source": [
    "## Assumptions\n",
    "We assume that this is a fair and reasonable auction. See [auction details](#Definitions) for a more precise definition, but in general, these assumptions simply mean that the auction operates as you would expect."
   ]
  },
  {
   "cell_type": "markdown",
   "metadata": {},
   "source": [
    "# Q1) First Price Auction (FPA)\n",
    "In this auction, each buyer makes one bid (\"offer\") to the seller. The seller sells the item to the highest bidder for that amount. \n",
    "\n",
    "Example of an ad auction:\n",
    "<table>\n",
    "<tr>\n",
    "<th>Advertiser</th>\n",
    "<th>Bid</th>\n",
    "<th>Ad shown?</th>\n",
    "<th>Price paid</th>\n",
    "</tr>\n",
    "<tr>\n",
    "<td>Abra</td>\n",
    "<td>\\$5</td>\n",
    "<td>Yes</td>\n",
    "<td>\\$5</td>\n",
    "</tr>\n",
    "<tr>\n",
    "<td>Bulbasaur</td>\n",
    "<td>\\$3</td>\n",
    "<td>No</td>\n",
    "<td>\\$0</td>\n",
    "</tr>\n",
    "<tr>\n",
    "<td>Charmander</td>\n",
    "<td>\\$2</td>\n",
    "<td>No</td>\n",
    "<td>\\$0</td>\n",
    "</tr>\n",
    "</table>\n",
    "In this example, the seller revenue is \\$5.\n",
    "\n",
    "Suppose that we know that all buyers draw their values either uniformly at random from the $(0,1)$ interval, or from an exponential distribution with a certain parameter $\\lambda$. Given that you are person $i$, valuing the item at $x_i$, how much should you bid? **Suppose that everyone else is extremely risk averse, meaning that their function is $\\beta_j(x_j) = x_j, \\forall j \\neq i$.**\n",
    "\n",
    "Try to maximize your profit (or expected utility, as referred in the homework), using the bidding function you derived in your homework!"
   ]
  },
  {
   "cell_type": "markdown",
   "metadata": {},
   "source": [
    "### Auction Simulator\n",
    "We will begin by building a simulator for our auctions."
   ]
  },
  {
   "cell_type": "code",
   "execution_count": 1,
   "metadata": {
    "collapsed": true
   },
   "outputs": [],
   "source": [
    "import matplotlib.pyplot as plt\n",
    "import numpy as np\n",
    "from scipy.special import lambertw\n",
    "\n",
    "%matplotlib inline\n",
    "\n",
    "def simulate_fpa(num_players, beta_fn, distribution, num_trials=1000):\n",
    "    \"\"\"\n",
    "    num_players (int): The number of bidders in the auction.\n",
    "    beta_fn (function): The bidding function (takes in as input the valuation\n",
    "        of a bidder and returns how much the bidder bids).\n",
    "    distribution (str): The distribution from which the valuations are drawn.\n",
    "        This can be either \"uniform\" or \"exponential\". See Q1(a) and Q1(b).\n",
    "    num_trials (int): The number of trials for which the simulation will run.\n",
    "\n",
    "    Returns: profit_timeseries (np.ndarray)\n",
    "        Entry `i` of this array will contain the total gain of utility of the\n",
    "        bidder after `i - 1` trials have elapsed (recall that in Python, arrays\n",
    "        are zero-indexed).\n",
    "        This will be plotted in Q1(a) and Q1(b).\n",
    "    \"\"\"\n",
    "    cumulative_profit = 0.0\n",
    "    profit_timeseries = np.zeros(num_trials)\n",
    "    num_wins = 0\n",
    "    for i in range(num_trials):\n",
    "        valuations = np.zeros(num_players)\n",
    "\n",
    "        if distribution == \"uniform\":\n",
    "            valuations = np.random.uniform(size=num_players)\n",
    "        elif distribution == \"exponential\":\n",
    "            valuations = np.random.exponential(0.5, size=num_players)\n",
    "        else:\n",
    "            print(\"Unknown distribution!\")\n",
    "            return\n",
    "\n",
    "        bids = np.copy(valuations)\n",
    "        # change your bid based on your beta function\n",
    "        bids[0] = beta_fn(valuations[0])\n",
    "        winner = np.argmax(bids)\n",
    "        if winner == 0:\n",
    "            num_wins += 1\n",
    "            cumulative_profit += valuations[0] - bids[0]\n",
    "        profit_timeseries[i] = cumulative_profit\n",
    "    #print(\"Number of Wins:\", num_wins)\n",
    "    return profit_timeseries"
   ]
  },
  {
   "cell_type": "markdown",
   "metadata": {},
   "source": [
    "### Q1 (a) FPA Uniform\n",
    "Now, assume that everyone (including you) draws their values uniformly at random from the $(0,1)$ interval. Run a simulation for 1000 rounds with two buyers, and your optimized bidding function. Plot your cumulative profit as it evolves over time. How much can you earn on average? How do your bidding function, cumulative profit, and expected profit change if we have $n-1$ other bidders (plot with $n = 10$  (9 other bidders))? Explain the differences between these graphs.\n",
    "\n",
    "Note: You should first mathematically derive the expected total profit over all of the trials, and then empirically verify that your answer is correct."
   ]
  },
  {
   "cell_type": "code",
   "execution_count": 2,
   "metadata": {},
   "outputs": [
    {
     "name": "stdout",
     "output_type": "stream",
     "text": [
      "Average Profit: 0.0815692015138\n",
      "Total Profit: 81.5692015138\n"
     ]
    },
    {
     "data": {
      "text/plain": [
       "[<matplotlib.lines.Line2D at 0x10a9b26d8>]"
      ]
     },
     "execution_count": 2,
     "metadata": {},
     "output_type": "execute_result"
    },
    {
     "data": {
      "image/png": "[encoded data removed]",
      "text/plain": [
       "<matplotlib.figure.Figure at 0x10a91c208>"
      ]
     },
     "metadata": {},
     "output_type": "display_data"
    }
   ],
   "source": [
    "def beta(valuation):\n",
    "    return valuation / 2\n",
    "\n",
    "results = simulate_fpa(2, beta, \"uniform\", 1000)\n",
    "expected_profits = [1.0 / 12 * x for x in range(1, 1001)]\n",
    "print(\"Average Profit:\", results[999] / 1000)\n",
    "print(\"Total Profit:\", results[999])\n",
    "plt.figure()\n",
    "plt.plot(results)\n",
    "plt.plot(expected_profits)\n",
    "\n",
    "# expected profit = 1000 / 12 ~ 83.33 over 1000 rounds"
   ]
  },
  {
   "cell_type": "code",
   "execution_count": 3,
   "metadata": {},
   "outputs": [
    {
     "name": "stdout",
     "output_type": "stream",
     "text": [
      "Average Profit: 0.00288710958808\n",
      "Total Profit: 2.88710958808\n"
     ]
    },
    {
     "data": {
      "text/plain": [
       "[<matplotlib.lines.Line2D at 0x11228d128>]"
      ]
     },
     "execution_count": 3,
     "metadata": {},
     "output_type": "execute_result"
    },
    {
     "data": {
      "image/png": "[encoded data removed]",
      "text/plain": [
       "<matplotlib.figure.Figure at 0x1122a8a20>"
      ]
     },
     "metadata": {},
     "output_type": "display_data"
    }
   ],
   "source": [
    "n = 10\n",
    "\n",
    "def beta2(valuation):\n",
    "    return (n - 1) * valuation / n\n",
    "\n",
    "results = simulate_fpa(n, beta2, \"uniform\", 1000)\n",
    "expected_profits = [1.0 * ((n - 1) ** (n - 1)) / ((n ** n) * (n + 1)) * x \\\n",
    "    for x in range(1, 1001)]\n",
    "print(\"Average Profit:\", results[999] / 1000)\n",
    "print(\"Total Profit:\", results[999])\n",
    "plt.figure()\n",
    "plt.plot(results)\n",
    "plt.plot(expected_profits)\n",
    "\n",
    "# expected profit ~ 3.52"
   ]
  },
  {
   "cell_type": "markdown",
   "metadata": {
    "collapsed": true
   },
   "source": [
    "We model our winnings for each round as a random variable $W$ for bidding function $\\beta$ in an auction with $n+1$ people (bidding against $n$ others):\n",
    "\n",
    "$$\n",
    "W =\n",
    " \\begin{cases} \n",
    "      0, &  \\text{w.p. } 1 - \\beta(a)^n \\\\\n",
    "      a-\\beta(a), & \\text{w.p. } \\beta(a)^n\n",
    "\\end{cases}\n",
    "$$\n",
    "\n",
    "Bidding against $n$ other people, we see that our expected winnings ($W$) for valuation $a \\in (0,1)$ will be\n",
    "$$\\mathbb{E}[W] = \\mathbb{E}\\bigl[\\bigl(a-\\beta(a)\\bigr) \\beta(a)^n\\bigr] =\\mathbb{E}\\Bigl[\\Bigl(a - \\frac{na}{n+1}\\Bigr) \\Bigl(\\frac{na}{n+1}\\Bigr)^n\\Bigr] = \\frac{n^n}{(n+1)^{n+1}} \\mathbb{E}[a^{n+1}] = \\frac{n^n}{(n+1)^{n+1}(n+2)}.$$\n",
    "\n",
    "Thus, in an auction with n people total (n-1 other bidders), our expected profit is:\n",
    "$$ \\frac{(n-1)^{(n-1)}}{n^n(n+1)}$$\n",
    "\n",
    "We can see that with $n = 2$, the graph is much smoother, whereas with $n = 10$, you can clearly see the individual steps/wins. This is because in the $n = 10$ case, we win much less of the time, meaning that in a much larger percentage of the trials, no profit is made, as we lose the auction."
   ]
  },
  {
   "cell_type": "markdown",
   "metadata": {},
   "source": [
    "### Q1 (b) FPA Exponential\n",
    "Now assume that everyone (including you) draws their values from the exponential distribution with parameter $\\lambda = 2$. **Assuming everyone else is still bidding their valuation**, how good of a bidding function can you empirically create for bidding against 9 other people ($n = 10$), who all bid their valuations? Note that it is not necessary to find a closed-form solution. Just play around with different bidding functions and try to find the best one you can! Additionally, feel free to reuse code from previous parts.\n",
    "\n",
    "In order to receive the full score, we are expecting the total profit for 1000 trials with 9 other people and the exponential distribution with $\\lambda = 2$ to be above 25."
   ]
  },
  {
   "cell_type": "code",
   "execution_count": 4,
   "metadata": {},
   "outputs": [
    {
     "name": "stdout",
     "output_type": "stream",
     "text": [
      "Average Profit: 0.0245887480405\n",
      "Total Profit: 24.5887480405\n"
     ]
    },
    {
     "data": {
      "text/plain": [
       "[<matplotlib.lines.Line2D at 0x1123e9198>]"
      ]
     },
     "execution_count": 4,
     "metadata": {},
     "output_type": "execute_result"
    },
    {
     "data": {
      "image/png": "[encoded data removed]",
      "text/plain": [
       "<matplotlib.figure.Figure at 0x112332048>"
      ]
     },
     "metadata": {},
     "output_type": "display_data"
    }
   ],
   "source": [
    "Lambda = 2\n",
    "n = 10\n",
    "\n",
    "# exact closed form solution, don't worry about derivation\n",
    "def beta3(your_valuation): \n",
    "    return your_valuation + 1.0 / Lambda / (n - 1) - 1.0 / Lambda \\\n",
    "        * np.real(lambertw(np.exp(your_valuation * Lambda + 1.0 / (n - 1)) \\\n",
    "        / (n - 1)))\n",
    "\n",
    "results = simulate_fpa(n, beta3, \"exponential\", 1000)\n",
    "expected_profits = [.02697 * x for x in range(1, 1001)]\n",
    "print(\"Average Profit:\", results[999] / 1000)\n",
    "print(\"Total Profit:\", results[999])\n",
    "plt.figure()\n",
    "plt.plot(results)\n",
    "plt.plot(expected_profits)\n",
    "# expected profit empirically ~ 26.97 "
   ]
  },
  {
   "cell_type": "code",
   "execution_count": 5,
   "metadata": {},
   "outputs": [
    {
     "name": "stdout",
     "output_type": "stream",
     "text": [
      "Best_k is: 0.67\n",
      "Average Profit: 0.0283775894045\n",
      "Total Profit: 28.3775894045\n"
     ]
    },
    {
     "data": {
      "text/plain": [
       "[<matplotlib.lines.Line2D at 0x1123f8978>]"
      ]
     },
     "execution_count": 5,
     "metadata": {},
     "output_type": "execute_result"
    },
    {
     "data": {
      "image/png": "[encoded data removed]",
      "text/plain": [
       "<matplotlib.figure.Figure at 0x1124dd710>"
      ]
     },
     "metadata": {},
     "output_type": "display_data"
    }
   ],
   "source": [
    "#Another possible strategy:\n",
    "#Iteratively try different reserves\n",
    "from numpy import r_\n",
    "possible_ks = r_[:1:0.01]\n",
    "best_k = max(possible_ks, key= lambda k: simulate_fpa(\\\n",
    "        10, lambda x: x * k, \"exponential\", 10000)[9999])\n",
    "\n",
    "def beta4(your_valuation):\n",
    "    return best_k*your_valuation\n",
    "\n",
    "print(\"Best_k is:\", best_k)\n",
    "    \n",
    "\n",
    "results = simulate_fpa(n, beta4, \"exponential\", 1000)\n",
    "expected_profits = [.02697 * x for x in range(1, 1001)]\n",
    "print(\"Average Profit:\", results[999] / 1000)\n",
    "print(\"Total Profit:\", results[999])\n",
    "plt.figure()\n",
    "plt.plot(results)\n",
    "plt.plot(expected_profits)"
   ]
  },
  {
   "cell_type": "markdown",
   "metadata": {},
   "source": [
    "Our winning $W$ for bidding function $\\beta$, with $n+1$ people (bidding against $n$ others) is:\n",
    "\n",
    "$$\n",
    "W =\n",
    " \\begin{cases} \n",
    "      0, &  \\text{w.p. } 1- (1-\\mathrm{e}^{-\\lambda x})^n \\\\\n",
    "      a-\\beta(a), & \\text{w.p. } (1-\\mathrm{e}^{-\\lambda x})^n\n",
    "\\end{cases}\n",
    "$$\n",
    "\n",
    "Bidding against $n$ other people, we see that our expected winnings ($W$) for valuation $a \\sim \\exp(\\lambda)$, with bid $x = \\beta(a)$ will be\n",
    "$$\\mathbb{E}[W] = \\mathbb{E}[(a-x) (1-\\mathrm{e}^{-\\lambda x})^n].$$\n",
    "Taking the derivative of this with respect to $x$ and setting to $0$ to find the maximum (we can do this freely, as we are simply computing $x$ for a fixed value of $a$, so $a$ is a constant here with respect to $x$), we get:\n",
    "$$-(1-\\mathrm{e}^{-\\lambda x})^n + (a-x)n(1-\\mathrm{e}^{-\\lambda x})^{n-1}\\lambda \\mathrm{e}^{-\\lambda x} = 0$$\n",
    "$$1 + (a-x)n \\lambda = \\mathrm{e}^{\\lambda x}$$\n",
    "We plug this in to wolfram alpha to solve, yielding\n",
    "$$x = a + \\frac{1}{n\\lambda} - \\frac{1}{\\lambda} \\mathcal{W}\\Bigl(\\frac{\\mathrm{e}^{\\lambda a+ 1/n}}{n}\\Bigr),$$\n",
    "\n",
    "meaning that in an auction with $n$ people, our optimal bidding function is:\n",
    "$$\\beta(a) = a + \\frac{1}{(n-1)\\lambda} - \\frac{1}{\\lambda} \\mathcal{W}\\Bigl(\\frac{e^{\\lambda a+ 1/(n-1)}}{n-1}\\Bigr)$$\n",
    "where $\\mathcal{W}$ is the <a href = \"http://reference.wolfram.com/language/ref/ProductLog.html\">product log function</a>. This level of math was not expected for this class. In that same vein, the expected value of this function was determined empirically."
   ]
  },
  {
   "cell_type": "markdown",
   "metadata": {},
   "source": [
    "# Q2) Second Price Auction (SPA)\n",
    "In this auction, each buyer again makes one secret bid. The bidder with the highest bid wins, but they only pay the second highest value. Google uses a modified version of this auction in practice (see<a> https://support.google.com/adsense/answer/160525?hl=en</a>).\n",
    "\n",
    "Here is an example of a second price ad auction. Only one person gets to show the ad:  \n",
    "\n",
    "<table>\n",
    "<tr>\n",
    "<th>Advertiser</th>\n",
    "<th>Bid</th>\n",
    "<th>Ad shown?</th>\n",
    "<th>Price paid</th>\n",
    "</tr>\n",
    "<tr>\n",
    "<td>Abra</td>\n",
    "<td>\\$5</td>\n",
    "<td>Yes</td>\n",
    "<td>\\$3</td>\n",
    "</tr>\n",
    "<tr>\n",
    "<td>Bulbasaur</td>\n",
    "<td>\\$3</td>\n",
    "<td>No</td>\n",
    "<td>\\$0</td>\n",
    "</tr>\n",
    "<tr>\n",
    "<td>Charmander</td>\n",
    "<td>\\$2</td>\n",
    "<td>No</td>\n",
    "<td>\\$0</td>\n",
    "</tr>\n",
    "</table>\n",
    "In this example, the seller revenue is \\$3.\n",
    "\n",
    "Operating under the same assumptions as in the first price option case, we assume all buyers draw their values uniformly at random from the $(0,1)$ interval. Given that you are person $i$, valuing the item at $x_i$, how much should you bid? **Suppose that everyone else is extremely risk averse, meaning that their function is $\\beta_j(x_j) = x_j, \\forall j \\neq i$. In fact this is the optimal bidding function in the second price auction.**\n",
    "\n",
    "Modify your simulator to work for the second-price auction case, or feel free to copy and alter you first price simulator."
   ]
  },
  {
   "cell_type": "markdown",
   "metadata": {},
   "source": [
    "## Q2 (a) SPA Profit\n",
    "Plot your cumulative profit for two buyers as it evolves over time. How much can you earn on average? How do your bidding function, cumulative profit, and expected profit change if we have $n$ bidders total ($n-1$ other bidders)? Evaluate the latter for $n = 10$ (9 other bidders)."
   ]
  },
  {
   "cell_type": "code",
   "execution_count": 6,
   "metadata": {
    "collapsed": true
   },
   "outputs": [],
   "source": [
    "def simulate_spa(num_players, beta_fn, distribution, num_trials=1000):\n",
    "    cumulative_profit = 0.0\n",
    "    profit_timeseries = np.zeros(num_trials)\n",
    "    num_wins = 0\n",
    "    for i in range(num_trials):\n",
    "        valuations = np.zeros(num_players)\n",
    "    \n",
    "        if distribution == \"uniform\":\n",
    "            valuations = np.random.uniform(size=num_players)\n",
    "        elif distribution == \"exponential\":\n",
    "            valuations = np.random.exponential(0.5, size=num_players)\n",
    "        else:\n",
    "            print(\"Unknown distribution\")\n",
    "            return\n",
    "\n",
    "        bids = np.copy(valuations)\n",
    "        # change your bid based on your beta function\n",
    "        bids[0] = beta_fn(valuations[0])\n",
    "        winner = np.argmax(bids)\n",
    "        # delete the highest bid\n",
    "        bids = np.delete(bids, winner)\n",
    "        if winner == 0:\n",
    "            num_wins += 1\n",
    "            cumulative_profit += valuations[0] - np.max(bids)\n",
    "        profit_timeseries[i] = cumulative_profit\n",
    "    print(\"Number of Wins:\", num_wins)\n",
    "    return profit_timeseries"
   ]
  },
  {
   "cell_type": "code",
   "execution_count": 7,
   "metadata": {},
   "outputs": [
    {
     "name": "stdout",
     "output_type": "stream",
     "text": [
      "Number of Wins: 519\n",
      "Average Profit: 0.177480221011\n",
      "Total Profit: 177.480221011\n"
     ]
    },
    {
     "data": {
      "text/plain": [
       "[<matplotlib.lines.Line2D at 0x112358588>]"
      ]
     },
     "execution_count": 7,
     "metadata": {},
     "output_type": "execute_result"
    },
    {
     "data": {
      "image/png": "[encoded data removed]",
      "text/plain": [
       "<matplotlib.figure.Figure at 0x112671860>"
      ]
     },
     "metadata": {},
     "output_type": "display_data"
    }
   ],
   "source": [
    "n = 2\n",
    "def beta4(valuation):\n",
    "    return valuation\n",
    "\n",
    "results = simulate_spa(n, beta4, \"uniform\", 1000)\n",
    "print(\"Average Profit:\", results[999] / 1000)\n",
    "print(\"Total Profit:\", results[999])\n",
    "expected_profit = [1.0 / (n) / (n + 1) * x for x in range(1, 1001)]\n",
    "plt.figure()\n",
    "plt.plot(results)\n",
    "plt.plot(expected_profit)\n",
    "# expected profit of 1000 / 6 ~ 166.66"
   ]
  },
  {
   "cell_type": "code",
   "execution_count": 8,
   "metadata": {},
   "outputs": [
    {
     "name": "stdout",
     "output_type": "stream",
     "text": [
      "Number of Wins: 108\n",
      "Average Profit: 0.00960796244976\n",
      "Total Profit: 9.60796244976\n"
     ]
    },
    {
     "data": {
      "text/plain": [
       "[<matplotlib.lines.Line2D at 0x112790160>]"
      ]
     },
     "execution_count": 8,
     "metadata": {},
     "output_type": "execute_result"
    },
    {
     "data": {
      "image/png": "[encoded data removed]",
      "text/plain": [
       "<matplotlib.figure.Figure at 0x1126f2390>"
      ]
     },
     "metadata": {},
     "output_type": "display_data"
    }
   ],
   "source": [
    "n = 10\n",
    "def beta4(valuation):\n",
    "    return valuation\n",
    "\n",
    "results = simulate_spa(n, beta4, \"uniform\", 1000)\n",
    "print(\"Average Profit:\", results[999] / 1000)\n",
    "print(\"Total Profit:\", results[999])\n",
    "expected_profit = [1.0 / (n) / (n + 1) * x for x in range(1, 1001)]\n",
    "plt.figure()\n",
    "plt.plot(results)\n",
    "plt.plot(expected_profit)\n",
    "# expected profit = 1000 / 110 ~ 9.09"
   ]
  },
  {
   "cell_type": "markdown",
   "metadata": {},
   "source": [
    "Bidding against $n$ other people, we see that our expected winnings ($W$) for valuation $a \\in (0,1)$ will be \n",
    "$$\\mathbb{E}[W] = \\mathbb{E}\\bigl[\\bigl(a-\\beta(a)\\bigr) a^n\\bigr] = \\mathbb{E}\\Bigl[\\Bigl(a - \\frac{na}{n+1}\\Bigr) a^n\\Bigr] = \\frac{1}{(n+1)} \\mathbb{E}[a^{n+1}] = \\frac{1}{(n+1)(n+2)}.$$\n",
    "Thus, for an auction with $n$ people, our expected winnings are\n",
    "$$\\frac{1}{n(n+1)}.$$"
   ]
  },
  {
   "cell_type": "markdown",
   "metadata": {},
   "source": [
    "### Q2 (b) Seller Revenue\n",
    "Now, let's try and see how things look from the other side. Given that all $n$ buyers draw their values uniformly at random from the $(0,1)$ interval, should the seller choose to hold a first price auction, or a second price auction, given that people use optimal bidding functions described above? Show your answer by modifying your simulator for seller revenue (rather than player revenue as we did before) and plotting the revenue from both auctions.\n",
    "\n",
    "(You can plot $n = 6$ bidders with $100$ trials.)"
   ]
  },
  {
   "cell_type": "code",
   "execution_count": 9,
   "metadata": {},
   "outputs": [
    {
     "name": "stdout",
     "output_type": "stream",
     "text": [
      "Seller Earned: 72.3797106714\n",
      "Seller Earned: 66.896381777\n"
     ]
    },
    {
     "data": {
      "text/plain": [
       "[<matplotlib.lines.Line2D at 0x1126e7e48>]"
      ]
     },
     "execution_count": 9,
     "metadata": {},
     "output_type": "execute_result"
    },
    {
     "data": {
      "image/png": "[encoded data removed]",
      "text/plain": [
       "<matplotlib.figure.Figure at 0x1123d25f8>"
      ]
     },
     "metadata": {},
     "output_type": "display_data"
    }
   ],
   "source": [
    "def simulate_seller(\n",
    "        num_players, distribution, is_first_price, num_trials=1000):\n",
    "    seller_earnings = 0.0\n",
    "    revenue_timeseries = np.zeros(num_trials)\n",
    "\n",
    "    for i in range(num_trials):\n",
    "        valuations = np.zeros(num_players)\n",
    "    \n",
    "        if distribution == \"uniform\":\n",
    "            valuations = np.random.uniform(size=num_players)\n",
    "        elif distribution == \"exponential\":\n",
    "            valuations = np.random.exponential(0.5, size=num_players)\n",
    "        else:\n",
    "            print(\"Unknown distribution!\")\n",
    "            return\n",
    "\n",
    "        bids = np.copy(valuations)\n",
    "        # change your bid based on your beta function\n",
    "        if is_first_price:\n",
    "            bids = (num_players - 1) * bids / num_players\n",
    "        else:\n",
    "            winner = np.argmax(bids)\n",
    "            bids = np.delete(bids, winner)\n",
    "        seller_earnings += np.max(bids)\n",
    "        if i == 0:\n",
    "            revenue_timeseries[i] = np.max(bids)\n",
    "        else:\n",
    "            revenue_timeseries[i] = revenue_timeseries[i - 1] + np.max(bids)\n",
    "    print(\"Seller Earned:\", seller_earnings)\n",
    "    return revenue_timeseries\n",
    "\n",
    "n = 6\n",
    "num_trials = 100\n",
    "\n",
    "fpa = simulate_seller(n, \"uniform\", True, num_trials)\n",
    "spa = simulate_seller(n, \"uniform\", False, num_trials)\n",
    "\n",
    "plt.figure()\n",
    "plt.plot(fpa)\n",
    "plt.plot(spa)"
   ]
  },
  {
   "cell_type": "markdown",
   "metadata": {
    "collapsed": true
   },
   "source": [
    "The seller revenue is the same in the two cases! We look at the two cases:\n",
    "\n",
    "FPA: Everyone is bidding $\\displaystyle \\frac{n-1}{n}$ times their valuation, so we know that everyone's bid is distributed uniformly on the interval $\\displaystyle \\Bigl(0, \\frac{n-1}{n}\\Bigr)$. By symmetry, we can see that the max of $n$ of these bids will be\n",
    "$$\\frac{n}{n+1} \\cdot \\frac{n-1}{n} = \\frac{n-1}{n+1},$$\n",
    "and in a FPA, we earn the max bid.\n",
    "\n",
    "SPA: Everyone is bidding their valuation, and we earn the second highest bid in revenue. In expectation, the $i$th lowest bid out of the $n$ will be $\\displaystyle\\frac{i}{n+1}$. We are not looking for the highest bid, which will be $\\displaystyle\\frac{n}{n+1}$ on average, as this is a second price auction, so we look at the second highest of the bids, which will be in expectation $\\displaystyle\\frac{n-1}{n+1}$.\n",
    "\n",
    "As we can see, no matter the style of auction, we end up with an expected seller revenue of $\\displaystyle\\frac{n-1}{n+1}$ per auction."
   ]
  },
  {
   "cell_type": "markdown",
   "metadata": {},
   "source": [
    "# Q3) First Price Auction with a Reserve\n",
    "\n",
    "In this scenario, you are again operating as the $\\textbf{seller}$. You want to maximize your revenue selling $k$ identical items over $a$ auctions, $a\\geq k$, and thus set a reserve price for each auction. This means that unless the maximum bid in a given auction is above the reserve price you set, the transaction is not completed, and no money or goods exchange hands. If the highest bid is above the reserve price, then the transaction occurs as per usual, with the winner paying what he bid in exchange for the item.\n",
    "\n",
    "Here is an example of a first price auction with a reserve of $4:  \n",
    "\n",
    "<table>\n",
    "<tr>\n",
    "<th>Advertiser</th>\n",
    "<th>Bid</th>\n",
    "<th>Ad shown?</th>\n",
    "<th>Price paid</th>\n",
    "</tr>\n",
    "<tr>\n",
    "<td>Abra</td>\n",
    "<td>\\$5</td>\n",
    "<td>Yes</td>\n",
    "<td>\\$5</td>\n",
    "</tr>\n",
    "<tr>\n",
    "<td>Bulbasaur</td>\n",
    "<td>\\$3</td>\n",
    "<td>No</td>\n",
    "<td>\\$0</td>\n",
    "</tr>\n",
    "<tr>\n",
    "<td>Charmander</td>\n",
    "<td>\\$2</td>\n",
    "<td>No</td>\n",
    "<td>\\$0</td>\n",
    "</tr>\n",
    "</table>\n",
    "In this example, the seller revenue is \\$5.\n",
    "\n",
    "\n",
    "Whereas, here is an example of that same auction with a reserve of $6:\n",
    "\n",
    "<table>\n",
    "<tr>\n",
    "<th>Advertiser</th>\n",
    "<th>Bid</th>\n",
    "<th>Ad shown?</th>\n",
    "<th>Price paid</th>\n",
    "</tr>\n",
    "<tr>\n",
    "<td>Abra</td>\n",
    "<td>\\$5</td>\n",
    "<td>No</td>\n",
    "<td>\\$0</td>\n",
    "</tr>\n",
    "<tr>\n",
    "<td>Bulbasaur</td>\n",
    "<td>\\$3</td>\n",
    "<td>No</td>\n",
    "<td>\\$0</td>\n",
    "</tr>\n",
    "<tr>\n",
    "<td>Charmander</td>\n",
    "<td>\\$2</td>\n",
    "<td>No</td>\n",
    "<td>\\$0</td>\n",
    "</tr>\n",
    "</table>\n",
    "In this example, the seller revenue is \\$0.\n",
    "\n",
    "\n",
    "Using a similar framework to before, we are now going to try to optimize the reserve to maximize the seller's profit."
   ]
  },
  {
   "cell_type": "markdown",
   "metadata": {
    "collapsed": true
   },
   "source": [
    "### Q3 (a) Varying Reserve\n",
    "Suppose that you have $1$ iPhone that you can try to sell at $100$ different auctions, with one auction occuring each day, where at each auction $n$ bidders bid independently according to a fixed bidding function and a fixed but unknown distribution. If you can change the reserve for each auction, what should your reserve strategy as the seller be?\n",
    "\n",
    "Below, please write an explanation of your strategy in markdown (no code needed)."
   ]
  },
  {
   "cell_type": "markdown",
   "metadata": {
    "collapsed": true
   },
   "source": [
    "#### Q3 (a) This is a real world example of the secretary problem! Our optimal solution is to set the reserve to infinity for the first $\\displaystyle \\frac{100}{\\mathrm{e}}$ auctions, keeping track of the maximum winning bid, and setting the reserve for the remaining auctions to be that maximum bid from the first $\\displaystyle \\frac{100}{\\mathrm{e}}$ auctions. If we have yet to sell the iphone by the last auction, we set the reserve to $0$."
   ]
  },
  {
   "cell_type": "markdown",
   "metadata": {},
   "source": [
    "### Q3 (b) Fixed Reserve\n",
    "Now suppose that you have $10$ iPhones that you can take to $100$ different auctions, with one first price auction occuring each day, where at each auction $n = 5$ bidders draw their values from the exponential distribution with parameter $2$, with $\\beta_j(x_j) = x_j, \\forall j$. Empirically try and optimize one fixed reserve value to use over all the auctions to maximize your expected total revenue.\n",
    "\n",
    "In order to receive the full score, we are expecting the average profit for one round with $10$ iPhones, $100$ auctions and $n = 5$ bidders to be above 20."
   ]
  },
  {
   "cell_type": "code",
   "execution_count": 47,
   "metadata": {},
   "outputs": [
    {
     "name": "stdout",
     "output_type": "stream",
     "text": [
      "The optimized fix reserve is: 1.8292713165283203\n"
     ]
    }
   ],
   "source": [
    "#DP solution\n",
    "\n",
    "import time\n",
    "maxTimeAllowed = 30\n",
    "\n",
    "# Use binary search-esque method to find optimal reserve\n",
    "# we assume the revenue is a convex function wrt the reserve\n",
    "# we approximate revenue for a given (a,k,n,r) configuration with a DP solution\n",
    "    # but this can also be done empirically using our simulations,\n",
    "    # with some robustification\n",
    "def calcReserveBinary(a,k,n,num_iter):\n",
    "    lowr = 1\n",
    "    highr = 3\n",
    "    eps = 1e-10\n",
    "    start = time.time()\n",
    "    \n",
    "    for i in range(num_iter):\n",
    "        currLoopStart = time.time()\n",
    "        if i > 0 and (maxTimeAllowed-1) < (currLoopStart-start)*(i+1)/i:\n",
    "            print(\"taking too long\")\n",
    "            break\n",
    "        if i == 8:\n",
    "            eps = 1e-15\n",
    "        if i == 20:\n",
    "            eps = 1e-30\n",
    "\n",
    "        currR = (lowr+highr)/2.0\n",
    "        currRevenue = computeExpectedDPUniform(a,k,currR,n)\n",
    "        currReps = currR + eps\n",
    "        currRevenueEps = computeExpectedDPUniform(a,k,currReps,n)\n",
    "        \n",
    "        if currRevenueEps >= currRevenue: #check to see which side of peak we're on\n",
    "            lowr = currR\n",
    "        else:\n",
    "            highr = currR\n",
    "    \n",
    "    rOpt = (lowr+highr)/2.0\n",
    "    return rOpt\n",
    "\n",
    "#dpArray[i,j] = expected profit selling i+1 items at j+1 auctions for (a,k,r,n)\n",
    "def computeExpectedDPUniform(a,k,r,n):\n",
    "    dpArray = np.zeros((k,a)) \n",
    "    pLose = (1 - np.exp(-r*Lambda))**n\n",
    "    pWin = 1 - pLose\n",
    "    eWin = r + 1.0/Lambda/n #incorrect need to fix\n",
    "    for i in range(0,k):\n",
    "        dpArray[i,0] = pWin*eWin\n",
    "        \n",
    "    for j in range(1,a):\n",
    "        dpArray[0,j] = pLose*dpArray[0,j-1] + pWin*eWin\n",
    "\n",
    "    for i in range(1,k):\n",
    "        for j in range(1,a):\n",
    "            dpArray[i][j] = pLose*dpArray[i][j-1] + pWin*(dpArray[i-1][j-1]+eWin)\n",
    "    return dpArray[k-1,a-1]\n",
    "\n",
    "def simulate_FPA_seller_reserve(num_players, distribution, reserve, num_items, num_auctions=1000):\n",
    "    seller_earnings = 0.0\n",
    "    for i in range(num_auctions):\n",
    "        if num_items == 0:\n",
    "            break\n",
    "        valuations = np.zeros(num_players)\n",
    "        if distribution == \"uniform\":\n",
    "            valuations = np.random.uniform(size=num_players)\n",
    "        elif distribution == \"exponential\":\n",
    "            valuations = np.random.exponential(0.5, size=num_players)\n",
    "        else:\n",
    "            print(\"Unknown distribution\")\n",
    "            return\n",
    "        bids = np.copy(valuations)\n",
    "        if np.max(bids) > reserve and num_items>0:\n",
    "            seller_earnings += np.max(bids)\n",
    "            num_items-=1\n",
    "    return seller_earnings\n",
    "\n",
    "# empirically computed expected profit selling i+1 items at j+1 auctions for (a,k,r,n)\n",
    "def computeExpectedEmpiricalUniform(a,k,r,n):\n",
    "    summ = 0\n",
    "    num_trials = 10000\n",
    "    for i in range(num_trials):\n",
    "        summ += simulate_FPA_seller_reserve(n, \"uniform\", r, k, a)\n",
    "    return 1.0*summ / num_trials\n",
    "\n",
    "\n",
    "def calculateReserve(a,k,n):\n",
    "    if a == k:\n",
    "        return 0\n",
    "    return calcReserveBinary(a,k,n,60) #run max 60 iterations\n",
    "\n",
    "staff_reserve = calculateReserve(100, 10, 5)\n",
    "print(\"The optimized fix reserve is:\", staff_reserve)\n"
   ]
  },
  {
   "cell_type": "code",
   "execution_count": 48,
   "metadata": {},
   "outputs": [
    {
     "name": "stdout",
     "output_type": "stream",
     "text": [
      "The staff's optimized fix reserve is: 1.8292713165283203\n",
      "Staff Average Profit: 22.25958276303388\n",
      "Staff Total Profit: 22259.58276303388\n",
      "The iteratively determined reserve is: 1.8\n",
      "Iterative Average Profit: 22.36869851857743\n",
      "Iterative Total Profit: 22368.69851857743\n"
     ]
    },
    {
     "data": {
      "text/plain": [
       "[<matplotlib.lines.Line2D at 0x10da98438>]"
      ]
     },
     "execution_count": 48,
     "metadata": {},
     "output_type": "execute_result"
    },
    {
     "data": {
      "image/png": "[encoded data removed]",
      "text/plain": [
       "<matplotlib.figure.Figure at 0x10da8ee10>"
      ]
     },
     "metadata": {},
     "output_type": "display_data"
    }
   ],
   "source": [
    "#Another possible strategy:\n",
    "#Again iteratively try different reserves\n",
    "from numpy import r_\n",
    "def simulate_fpa_seller_reserve_2(\n",
    "        num_players, distribution, reserve, num_items, num_auctions, num_trials = 1000):\n",
    "    revenue_timeseries = np.zeros(num_trials)\n",
    "    for j in range(num_trials):\n",
    "        ni = num_items\n",
    "        seller_earnings = 0.0\n",
    "        \n",
    "        for i in range(num_auctions):\n",
    "            if ni == 0:\n",
    "                break\n",
    "            valuations = np.zeros(num_players)\n",
    "            if distribution == \"uniform\":\n",
    "                valuations = np.random.uniform(size=num_players)\n",
    "            elif distribution == \"exponential\":\n",
    "                valuations = np.random.exponential(0.5, size=num_players)\n",
    "            else:\n",
    "                print(\"Unknown distribution!\")\n",
    "                return\n",
    "            bids = np.copy(valuations)\n",
    "            if np.max(bids) > reserve and ni > 0:\n",
    "                seller_earnings += np.max(bids)\n",
    "                ni -= 1\n",
    "        if j == 0:\n",
    "            revenue_timeseries[j] = seller_earnings\n",
    "        else:\n",
    "            revenue_timeseries[j] = revenue_timeseries[j - 1] + seller_earnings\n",
    "    return revenue_timeseries\n",
    "\n",
    "\n",
    "reserves = r_[:3.5:0.1] #arbitrarily chosen 3.5 because lambda = 2\n",
    "average_empirical_revenue = []\n",
    "for r in reserves:\n",
    "    average_empirical_revenue.append(simulate_fpa_seller_reserve_2(5, \"exponential\", r, 10, 100)[999]/1000)\n",
    "    \n",
    "\n",
    "ind = np.argmax(average_empirical_revenue)\n",
    "chosen_reserve = reserves[ind]\n",
    "   \n",
    "#Comparison with the dynamic programming result:\n",
    "print(\"The staff's optimized fix reserve is:\", staff_reserve)\n",
    "staff_results = simulate_fpa_seller_reserve_2(5, \"exponential\", staff_reserve, 10, 100)\n",
    "print(\"Staff Average Profit:\", staff_results[999] / 1000)\n",
    "print(\"Staff Total Profit:\", staff_results[999])\n",
    "\n",
    "print(\"The iteratively determined reserve is:\", chosen_reserve)\n",
    "iterative_results = simulate_fpa_seller_reserve_2(5, \"exponential\", chosen_reserve, 10, 100)\n",
    "print(\"Iterative Average Profit:\", iterative_results[999] / 1000)\n",
    "print(\"Iterative Total Profit:\", iterative_results[999])\n",
    "\n",
    "plt.figure()\n",
    "plt.plot(staff_results)\n",
    "plt.plot(iterative_results)\n"
   ]
  },
  {
   "cell_type": "markdown",
   "metadata": {},
   "source": [
    "# Competition (Optional)\n",
    "\n",
    "Now that we've got your attention, we'd like to announce our first lab competition! The top 3 teams (form teams of 3-4 people) will be given extra credit.\n",
    "\n",
    "The details of the competition are as follows: you are a seller trying to maximize your expected revenue selling $k$ identical items over $a$ different auctions, where $n$ bidders draw their values uniformly at random from the interval $(0,1)$, with $\\beta_j(x_j) = x_j, \\forall j$. Your job as the seller is to set a single fixed reserve price $r$ to be used over all $a$ auctions, to maximize your revenue. You will submit your solution in a separate python file, _results.py_, which will contain the method `calculateReserve(a, k, n)`, where $a$ = # of auctions, $k$ = # of items, and $n$ = # of bidders. You may include any additional helper functions and standard imports you want. We will allow your algorithm to run for __30 seconds__ for each $(a,k,n)$ input, awarding you $0$ revenue for that input tuple if you run over the time limit. We will be running your code with Python 2, if we are unable to run it, you will not be entered into the competition.\n",
    "\n",
    "Please include a comment at the top of your _results.py_ file with the names of the members of your team. Only submit this file once per team.\n",
    "\n",
    "Good Luck!"
   ]
  },
  {
   "cell_type": "code",
   "execution_count": 17,
   "metadata": {},
   "outputs": [
    {
     "data": {
      "text/plain": [
       "<matplotlib.text.Text at 0x10ef049e8>"
      ]
     },
     "execution_count": 17,
     "metadata": {},
     "output_type": "execute_result"
    },
    {
     "data": {
      "image/png": "[encoded data removed]",
      "text/plain": [
       "<matplotlib.figure.Figure at 0x10ee23b00>"
      ]
     },
     "metadata": {},
     "output_type": "display_data"
    },
    {
     "data": {
      "image/png": "[encoded data removed]",
      "text/plain": [
       "<matplotlib.figure.Figure at 0x10ee96e80>"
      ]
     },
     "metadata": {},
     "output_type": "display_data"
    },
    {
     "data": {
      "image/png": "[encoded data removed]",
      "text/plain": [
       "<matplotlib.figure.Figure at 0x10eefc940>"
      ]
     },
     "metadata": {},
     "output_type": "display_data"
    }
   ],
   "source": [
    "import numpy as np\n",
    "import time\n",
    "\n",
    "max_time_allowed = 30\n",
    "\n",
    "# Use binary search-esque method to find optimal reserve\n",
    "# We assume the revenue is a convex function w.r.t. the reserve\n",
    "# We approximate revenue for a given (a, k, n, r) configuration with a DP\n",
    "# solution\n",
    "#\n",
    "# This can also be done empirically using our simulations, with some\n",
    "# robustification\n",
    "def calc_reserve_binary(a, k, n, num_iter):\n",
    "    low_r = 0\n",
    "    high_r = 1\n",
    "    eps = 1e-10\n",
    "    start = time.time()\n",
    "\n",
    "    for i in range(num_iter):\n",
    "        curr_loop_start = time.time()\n",
    "        if i > 0 and (max_time_allowed - 1) \\\n",
    "                < (curr_loop_start - start) * (i + 1) / i:\n",
    "            print(\"taking too long\")\n",
    "            break\n",
    "        if i == 8:\n",
    "            eps = 1e-15\n",
    "\n",
    "        curr_r = (low_r + high_r) / 2.0\n",
    "        curr_revenue = compute_expected_dp_uniform(a, k, curr_r, n)\n",
    "        curr_r_eps = curr_r + eps\n",
    "        curr_revenue_eps = compute_expected_dp_uniform(a, k, curr_r_eps, n)\n",
    "\n",
    "        # check to see which side of peak we're on\n",
    "        if curr_revenue_eps >= curr_revenue:\n",
    "            low_r = curr_r\n",
    "        else:\n",
    "            high_r = curr_r\n",
    "\n",
    "    r_opt = (low_r + high_r) / 2.0\n",
    "    return r_opt\n",
    "\n",
    "def compute_expected_dp_uniform(a, k, r, n):\n",
    "    dp_array = np.zeros((k, a)) \n",
    "    p_lose = r ** n\n",
    "    p_win = 1 - r ** n\n",
    "    e_win = 1.0 * n / (n + 1) * (1 - r ** (n + 1)) / (1 - r ** n)\n",
    "    for i in range(0, k):\n",
    "        dp_array[i, 0] = p_win * e_win\n",
    "\n",
    "    for j in range(1, a):\n",
    "        dp_array[0, j] = p_lose * dp_array[0, j - 1] + p_win * e_win\n",
    "\n",
    "    for i in range(1, k):\n",
    "        for j in range(1, a):\n",
    "            dp_array[i][j] = p_lose * dp_array[i][j - 1] \\\n",
    "                + p_win * (dp_array[i - 1][j - 1] + e_win)\n",
    "    return dp_array[k - 1, a - 1]\n",
    "\n",
    "def simulate_fpa_seller_reserve(\n",
    "        num_players, distribution, reserve, num_items, num_auctions=1000):\n",
    "    seller_earnings = 0.0\n",
    "    for i in range(num_auctions):\n",
    "        if num_items == 0:\n",
    "            break\n",
    "        valuations = np.zeros(num_players)\n",
    "        if distribution == \"uniform\":\n",
    "            valuations = np.random.uniform(size=num_players)\n",
    "        elif distribution == \"exponential\":\n",
    "            valuations = np.random.exponential(0.5, size=num_players)\n",
    "        else:\n",
    "            print(\"Unknown distribution!\")\n",
    "            return\n",
    "        bids = np.copy(valuations)\n",
    "        if np.max(bids) > reserve and num_items > 0:\n",
    "            seller_earnings += np.max(bids)\n",
    "            num_items -= 1\n",
    "    return seller_earnings\n",
    "\n",
    "# empirically computed expected profit selling i + 1 items at j + 1 auctions\n",
    "# for (a, k, r, n)\n",
    "def compute_expected_empirical_uniform(a, k, r, n):\n",
    "    summation = 0\n",
    "    num_trials = 10000\n",
    "    for i in range(num_trials):\n",
    "        summation += simulate_fpa_seller_reserve(n, \"uniform\", r, k, a)\n",
    "    return 1.0 * summation / num_trials\n",
    "\n",
    "\n",
    "def calculate_reserve(a, k, n):\n",
    "    if a == k:\n",
    "        return 0\n",
    "    # run a maximum of 30 iterations\n",
    "    return calc_reserve_binary(a, k, n, 30)\n",
    "\n",
    "# to show the derivative of revenue as a function of reserve only changes sign\n",
    "# once (our optimization method works)\n",
    "import matplotlib.pyplot as plt\n",
    "\n",
    "a = 10\n",
    "k = 4\n",
    "n = 4\n",
    "\n",
    "r_jump = .001\n",
    "r_vals = np.arange(0, 1, r_jump)\n",
    "revenue = np.zeros((int(1.0 / r_jump)))\n",
    "for r in r_vals:\n",
    "    revenue[int(r / r_jump)] = compute_expected_dp_uniform(a, k, r, n)\n",
    "    \n",
    "fig = plt.figure()\n",
    "plt.plot(revenue)\n",
    "fig.suptitle(\"Revenue as a Function of Reserve\", fontsize=20)\n",
    "# looks like a nice function to optimize!\n",
    "\n",
    "fig = plt.figure()\n",
    "plt.plot(np.diff(revenue, n=2))\n",
    "fig.suptitle(\"Second Derivative\", fontsize=20)\n",
    "# not convex, but...\n",
    "\n",
    "fig = plt.figure()\n",
    "# sign of first derivative\n",
    "plt.plot(np.sign(np.diff(revenue, n=1)))\n",
    "fig.suptitle(\"Sign of First Derivative\", fontsize=20)\n",
    "# the derivative is positive up until the max, and negative after\n",
    "# this means we can perform a binary-esque search to find"
   ]
  },
  {
   "cell_type": "markdown",
   "metadata": {},
   "source": [
    "## References\n",
    "[1] Sahai, A., Mishra, M., Tandra, R., Woyach, K., 2009. Cognitive radios for spectrum sharing. IEEE Signal\n",
    "Processing Magazine , 140–146. <br />\n",
    "[2]  A. Sahai, K. Woyach, K. Harrison, H. Palaiyanur, and R. Tandra, “Towards a “theory of spectrum zoning”,” Allerton, Oct. 2009. <br />\n",
    "[3] Nozick, Robert. Anarchy, State, and Utopia. New York: Basic, 1974. Print. <br />\n",
    "[4] Rawls, J. A. (1971) A Theory of Justice. Cambridge, MA: Harvard University Press. <br />\n"
   ]
  },
  {
   "cell_type": "markdown",
   "metadata": {},
   "source": [
    "## Definitions\n",
    "For this model to work, we should start with a list of assumptions:\n",
    "<ul>\n",
    "<li> Infinite wealth: Each buyer can afford to pay their valuation of the item;</li>\n",
    "<li> Anonymity: The only thing that matters is the buyer's bid, not the identity of the buyer (more formally, if buyer $i$ offers $x_i$ and wins against buyer $j$ who offers $x_j$, then buyer $j$ would win if she would offer $x_i + \\epsilon$);</li>\n",
    "<li> Privacy: Buyer $i$ only knows the value $x_i$ and does not know any bids or valuations $\\beta_j \\text{ or } x_j \\ \\forall j\\neq i$;</li>\n",
    "<li> All auctions are sealed-bid auctions: Every buyer submits the bid simultaneously.</li>\n",
    "</ul>\n",
    "[Back to Assumptions](#Assumptions)"
   ]
  }
 ],
 "metadata": {
  "anaconda-cloud": {},
  "kernelspec": {
   "display_name": "Python 3",
   "language": "python",
   "name": "python3"
  },
  "language_info": {
   "codemirror_mode": {
    "name": "ipython",
    "version": 3
   },
   "file_extension": ".py",
   "mimetype": "text/x-python",
   "name": "python",
   "nbconvert_exporter": "python",
   "pygments_lexer": "ipython3",
   "version": "3.6.3"
  }
 },
 "nbformat": 4,
 "nbformat_minor": 1
}
