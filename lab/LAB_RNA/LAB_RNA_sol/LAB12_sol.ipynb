{
 "cells": [
  {
   "cell_type": "markdown",
   "metadata": {},
   "source": [
    "# Lab 12 - RNA Sequencing through Expectation Maximization\n",
    "\n",
    "*This lab has been iteratively developed for EE 126 at UC Berkeley by Rishi Sharma, Sahaana Suri, Paul Rigge, Kangwook Lee, Kabir Chandrasekher, Max Kanwal, Tony Duan, David Marn, Ashvin Nair, Tavor Baharav, Sinho Chewi, Andrew Liu, Kamil Nar, David Wang, and Kannan Ramchandran. Special thanks to David Tse and the teaching staff of EE 178 at Stanford University for contributing to the lab as well.*"
   ]
  },
  {
   "cell_type": "markdown",
   "metadata": {},
   "source": [
    "## Table of Contents\n",
    "\n",
    "\n",
    "- [Introduction](#Introduction)\n",
    "- [MLE for a simple model](#Question-1----Simple-Model)\n",
    "- [MLE for a harder model](#Question-2----Harder-Model)\n",
    "- [EM algorithm for the harder model](#Question-3----EM-Algorithm)\n",
    "- [References](#References)"
   ]
  },
  {
   "cell_type": "markdown",
   "metadata": {},
   "source": [
    "## Introduction\n",
    "\n",
    "In the central dogma of biology, DNA is transcribed into RNA which is then translated into proteins. In the transcription process, RNA transcripts are created by concatenating certain regions of the genome called exons. Each transcript is a sequence of A,G,C,T's, typically of the order of 10,000 symbols long. There are about 100,000 possible transcripts whose sequences are known in sequencing databases. However, in a particular cell, only a subset of all possible transcripts are expressed. A biologist is interested in the abundances of the transcripts expressed, i.e. the relative proportion of occurrences of the transcripts expressed. The problem of [RNA sequencing](http://en.wikipedia.org/wiki/RNA-Seq) is to figure out how much and what type of RNA transcripts is present in a biological sample at a given moment in time, using sequencing data consists of short reads. It has many applications including genome annotation, comprehensive identification of fusions in cancer, discovery of novel isoforms of genes, and genome sequence assembly [[1][2]](#References).\n",
    "\n",
    "For our purposes, we'll formulate the problem as follows: the RNA consists of a set of transcripts or genes (we'll use these two terms interchangeably in the lab). Given a set of short reads that are sampled from  the transcripts, how can we estimate the relative abundance of each transcript? This process is depicted in the following figure (ref: pp16-17 Pachter 2011). The problem is particularly challenging because transcripts share common exon regions from the genome, and therefore there may be ambiguity as to which transcript a given read comes from.\n",
    "\n",
    "<img src=\"http://i.imgur.com/61e7d16.jpg\" title=\"source: imgur.com\" width=\"50%\"/>\n",
    "\n",
    "#### <center>Figure 1: We want to use the reads to guess the underlying proportion of transcripts.</center>"
   ]
  },
  {
   "cell_type": "markdown",
   "metadata": {},
   "source": [
    "It turns out we can use some methods we learned in class (MLE & EM) to solve this problem -- let's try it out.\n",
    "\n",
    "We assume that all genes are of the same length, $\\ell_t$, and all reads are of the same length, $\\ell_x$. Then, we assume the following Bayesian generative model:\n",
    "\n",
    "1. A read comes from a randomly chosen gene $t_i$.\n",
    "2. A read's starting point is randomly chosen among all possible starting positions in that gene (i.e., the locations from which we can make a full read of length $\\ell_x$).\n",
    "\n",
    "Given a set of reads $X = \\{X_1 \\ldots X_n\\}$, we want to figure out what distribution $\\rho = \\{ \\rho_1 \\ldots \\rho_m \\}$ over the genes was most likely to give us the reads $X$. To do this, we'll need to maximize the following likelihood function:\n",
    "\n",
    "$$ L(\\rho) = \\prod_{i=1}^{N}{  P(X_i|\\rho)  } $$"
   ]
  },
  {
   "cell_type": "markdown",
   "metadata": {},
   "source": [
    "## Question 1 -- Simple Model\n",
    "\n",
    "To make life easier, we're first going to assume no read is ambiguous. That is -- given a read, we can immediately tell which gene it came from. (In practice, this means we would have to know the chart mapping each color to a gene, as in Figure 1.)"
   ]
  },
  {
   "cell_type": "markdown",
   "metadata": {},
   "source": [
    "### 1a. Suppose you are given a read $X_i$ -- what is $P(X_i|\\rho)$?\n",
    "\n",
    "Your solution should take both the gene lengths and the read lengths into consideration. Denote the probability of seeing a specific gene as $\\rho_{t_i}$.\n",
    "\n",
    "Hint: how many possible starting positions exist for $X_i$?"
   ]
  },
  {
   "cell_type": "markdown",
   "metadata": {},
   "source": [
    "*Your answer here*"
   ]
  },
  {
   "cell_type": "markdown",
   "metadata": {},
   "source": [
    "**Solution**\n",
    "\n",
    "Since each read $X_i$ is unambiguous, it only has one compatible gene -- call it $t_i$.\n",
    "\n",
    "Then\n",
    "$$P(X_i|\\rho) = \\rho_{t_i} \\frac{1}{\\ell_t - \\ell_x + 1} = \\rho_{t_i} \\frac{1}{\\ell}$$\n",
    "where $\\ell = \\ell_t - \\ell_x + 1$ is called an effective length. "
   ]
  },
  {
   "cell_type": "markdown",
   "metadata": {},
   "source": [
    "### 1b. Assume that you have two genes. Find the MLE of $\\rho$ if you find $x$ reads compatible with gene $1$, and $n-x$ reads compatible with gene $2$. "
   ]
  },
  {
   "cell_type": "markdown",
   "metadata": {},
   "source": [
    "*Your answer here*"
   ]
  },
  {
   "cell_type": "markdown",
   "metadata": {},
   "source": [
    "**Solution**\n",
    "\n",
    "Using the results of Q1 and the fact that $\\rho_1 + \\rho_2 = 1$, we can obtain:\n",
    "\n",
    "\\begin{align}\n",
    "    L(\\rho|x) & = \\rho_1^x \\rho_2^{n-x} \\frac{1}{\\ell^n}\\\\\n",
    "    \\log L(\\rho|x) & = x \\log{\\rho_1} + (n-x) \\log{\\rho_2} - n \\log{\\ell}\\\\\n",
    "                 & = x \\log{\\rho_1} + (n-x) \\log{(1-\\rho_1)} - n \\log{\\ell}\\\\\\\\\n",
    "\\end{align}\n",
    "By taking the derivative with respect to $\\rho_1$ to maximize the log likelihood, we find\n",
    "\n",
    "$$\\rho_1 = \\frac{x}{n}, ~\\rho_2 = \\frac{n-x}{n}$$"
   ]
  },
  {
   "cell_type": "markdown",
   "metadata": {},
   "source": [
    "### 1c. Assume you have $M$ genes. Out of $n$ reads, $x_i$ reads are compatible with gene $i$, where $\\sum_{i=1}^{M}{x_i} = n$. Find the maximum likelihood estimator of $\\rho$. \n",
    "\n",
    "Hint: you might just be able to make an \"educated guess\" from your answer above. "
   ]
  },
  {
   "cell_type": "markdown",
   "metadata": {},
   "source": [
    "*Your answer here.*"
   ]
  },
  {
   "cell_type": "markdown",
   "metadata": {},
   "source": [
    "**Solution**\n",
    "\n",
    "Taking the same log likelihood calculation, we find the solution is to \n",
    "\n",
    "$$\\max \\{ \\sum_{i=1}^{m} x_i \\log \\rho_i \\} \\text{ such that } \\sum_{i=1}^{m} \\rho_i = 1.$$\n",
    "\n",
    "Using the Lagrangian, it is not difficult to find:\n",
    "$$\\forall i, \\rho_i = \\frac{x_i}{n}$$"
   ]
  },
  {
   "cell_type": "markdown",
   "metadata": {},
   "source": [
    "## Question 2 -- Harder Model\n",
    "\n",
    "Life gets harder when you allow for ambiguous reads. Going back to the figure above, we can imagine a case where we don't know which color a read belongs to, but we have a rough idea of the possible colors it could have been. See the modified figure below.\n",
    "\n",
    "<img src=\"http://i.imgur.com/5qOUtbt.jpg\" title=\"source: imgur.com\" width=\"50%\"/>\n",
    "#### <center> Figure 2: Again, we want to use the reads to estimate the proportion of genes, but now, we don't know for certain which read came from which gene.  </center>\n",
    "In this portion, we'll consider a general problem where a read is aligned with possibly more than one gene. \n",
    "\n",
    "First, we define a compatibility matrix $A \\in \\{0,1\\}^{n \\times m} = \\{a_{i,j}\\}$, where $a_{i,j}$ is $1$ if read $i$ is aligned with gene $j$, $0$ otherwise. "
   ]
  },
  {
   "cell_type": "markdown",
   "metadata": {},
   "source": [
    "As a motivating example, let's assume we have $3$ genes and $5$ reads aligned as follows:\n",
    "\n",
    "(ref: pp16-17 Pachter 2011)\n",
    "\n",
    "<img src=\"http://i.imgur.com/a0ZtnSV.png\">\n",
    "#### <center> Figure 3: Each read is a subset of some gene, and it can be compatible with multiple genes.</center>\n",
    "\n",
    "### 2a. Find the compatibility matrix $A$ for the above figure."
   ]
  },
  {
   "cell_type": "markdown",
   "metadata": {},
   "source": [
    "*Your answer here.*"
   ]
  },
  {
   "cell_type": "markdown",
   "metadata": {},
   "source": [
    "**Solution**\n",
    "$$A = \\left( \\begin{array}{ccc}\n",
    "1 & 1 & 1 \\\\\n",
    "0 & 1 & 1 \\\\\n",
    "1 & 0 & 1 \\\\\n",
    "1 & 0 & 0 \\\\\n",
    "1 & 1 & 0 \\end{array} \\right)$$"
   ]
  },
  {
   "cell_type": "markdown",
   "metadata": {},
   "source": [
    "### 2b. Given an arbitrary compatibility matrix, write an expression to find the likelihood function for $\\rho$.\n",
    "\n",
    "You'll have to tweak your solution to the last portion by carefully considering how you can represent $P(X_i|\\rho)$ given the compatibility matrix $A$."
   ]
  },
  {
   "cell_type": "markdown",
   "metadata": {},
   "source": [
    "*Your answer here.*"
   ]
  },
  {
   "cell_type": "markdown",
   "metadata": {},
   "source": [
    "**Solution**\n",
    "\n",
    "The updated likelihood of a particular read is, given the compatibility matrix $A$:\n",
    "$$P(X_i|\\rho) = \\sum_{j=1}^{M}{ \\rho_j A_{i,j} \\frac{1}{\\ell}} $$\n",
    "\n",
    "The overall likelihood function for $\\rho$ then remains unchanged:\n",
    "$$\\log L(\\rho) = \\log{ P( X|\\rho) } = \\log{ \\prod_{i=1}^{N}{  P(X_i|\\rho)  } } ,$$\n",
    "\n",
    "As an example, let's consider using this model to find the maximum likelihood estimator of $\\rho_1, \\ldots, \\rho_3$ of the example with $3$ transcripts and $5$ reads. \n",
    "\n",
    "The likelihood function $L(\\rho_1, \\ldots, \\rho_3)$ is proportional to\n",
    "\n",
    "$$(\\rho_1 + \\rho_2 +\\rho_3)(\\rho_2 + \\rho_3)(\\rho_1 + \\rho_3)(\\rho_1)(\\rho_1 + \\rho_2) $$\n",
    "\n",
    "Using $\\rho_1 + \\rho_2 + \\rho_3 = 1$, maximizing the likelihood is equivalent to maximizing the following.\n",
    "\n",
    "\\begin{align}\n",
    "    & (\\rho_2 + \\rho_3)(\\rho_1 + \\rho_3)\\rho_1(\\rho_1 + \\rho_2) \\\\\n",
    "    & = (\\rho_2 + \\rho_3)(1-\\rho_2)(1-\\rho_2-\\rho_3)(1-\\rho_3) \\\\\n",
    "        & = (\\rho_2 + \\rho_3)(1-\\rho_2-\\rho_3+\\rho_2\\rho_3)(1-\\rho_2-\\rho_3)\\\\\\\\\n",
    "\\end{align}\n",
    "\n",
    "From the above equation, note that $\\rho_2\\rho_3$ has to be maximized given the optimal $\\rho_2 + \\rho_3$ is chosen. This implies that $\\rho_2 = \\rho_3$. Now, it reduces to a single-variable expression, which can be maximized easily.\n",
    "\n",
    "$$\\hat{\\rho}_2 = \\hat{\\rho}_3 = \\frac{7}{16} - \\frac{\\sqrt{17}}{16}, ~\\hat{\\rho}_1 = 1-\\hat{\\rho}_2-\\hat{\\rho}_3 = \\frac{2}{16} + \\frac{\\sqrt{17}}{8}$$\n",
    "\n",
    "So we are able to find the most likely $\\rho$ given ambiguous reads... for that particular case. As you can see above, things get ugly really fast. The EM algorithm is useful because it provides another way to estimate the most likely distribution instead of trying to directly calculate it."
   ]
  },
  {
   "cell_type": "markdown",
   "metadata": {},
   "source": [
    "## Question 3 -- EM Algorithm\n",
    "\n",
    "In general, it is not easy to find the exact maximum likelihood estimator of $\\rho$ if ambiguous reads exist. Instead, we can rely on iterative methods that we hope will converge to the true value. One way to go about this is via expectation maximization (EM), as you have seen in class. \n",
    "\n",
    "To recap, [here](http://ai.stanford.edu/~chuongdo/papers/em_tutorial.pdf) is a short tutorial that does a wonderful job of explaining all that you need to know about EM [[3]](#References)."
   ]
  },
  {
   "cell_type": "markdown",
   "metadata": {},
   "source": [
    "For our purposes, here is an EM algorithm that can be used. You'll be implementing it shortly, so read it carefully and understand why it works. \n",
    "\n",
    "1. Initialize $\\rho = (\\frac{1}{M}, \\frac{1}{M}, \\ldots, \\frac{1}{M})$, all genes are equally probable.\n",
    "2. Find the compatibility matrix $A$.\n",
    "3. Repeat the following until $\\rho$ converges:<br/>\n",
    "    a. Each reading $i$ corresponds to the $i$th row of $A$. Call this $\\mathcal{I}_i$.<br/>\n",
    "    b. Put the values of $\\rho$ in $\\mathcal{I}_i$ where $\\mathcal{I}_i$ is not zero. Then normalize the vector and replace the $i$th row of $A$ with the normalized vector.<br/>\n",
    "    c. Replace $\\rho$ such that for each gene $j$, $\\rho_j = \\frac{1}{N}\\sum_{i=1}^{N}{A_{i,j}}$\n",
    "\n",
    "The following figure is a visual representation of the algorithm (Ref: p17 Pachter 2011) [[1]](#References)."
   ]
  },
  {
   "cell_type": "markdown",
   "metadata": {},
   "source": [
    "<img src=\"http://imgur.com/S0SKEzP.png\" title=\"source: imgur.com\" />\n",
    "#### <center> Figure 4: Visualization of the EM algorithm we will use. </center>"
   ]
  },
  {
   "cell_type": "markdown",
   "metadata": {},
   "source": [
    "This is a lot to digest at once, so let's only look at the first step to begin with.\n",
    "\n",
    "There are three possible genes to analyze (red, green, blue). There are five reads (a,b,c,d,e) that align with different genes. Initially, you assume a uniform prior.\n",
    "\n",
    "1. E step. Reads are proportionately assigned to each of the genes they could have come from, according to the current distribution $\\rho$.\n",
    "2. M step. The distribution $\\rho$ is recalculated proportionally from the assigned read counts from the E step.\n",
    "\n",
    "For example, the abundance of red after the first M step is estimated by\n",
    "\n",
    "$$\\rho_1 = 0.47 = \\frac{0.33 + 0.5 + 1 + 0.5}{5}$$"
   ]
  },
  {
   "cell_type": "markdown",
   "metadata": {},
   "source": [
    "### 3a. Will the above EM algorithm always find the MLE for $\\rho$? "
   ]
  },
  {
   "cell_type": "markdown",
   "metadata": {},
   "source": [
    "*Your answer here.*"
   ]
  },
  {
   "cell_type": "markdown",
   "metadata": {},
   "source": [
    "**Solution**\n",
    "\n",
    "No. The EM algorithm is a [coordinate ascent](https://en.wikipedia.org/wiki/Coordinate_descent) algorithm where you alternate between optimizing over two different sets of variables (one in the E-step, the other in the M-step).  This algorithm is guaranteed to converge to a local optimum, but because the problem is non-convex, there is no guarantee that the solution reached is a global optimum.  Hence, the initialization of the EM algorithm matters."
   ]
  },
  {
   "cell_type": "markdown",
   "metadata": {},
   "source": [
    "### 3b. Implement the above EM algorithm. Run it with the given set of reads & genes. What is your estimated $\\rho$?"
   ]
  },
  {
   "cell_type": "markdown",
   "metadata": {},
   "source": [
    "Let's begin by with a toy example. We'll start by making the relevant imports..."
   ]
  },
  {
   "cell_type": "code",
   "execution_count": 1,
   "metadata": {
    "collapsed": false
   },
   "outputs": [],
   "source": [
    "from __future__ import division\n",
    "import numpy as np\n",
    "import matplotlib.pyplot as plt\n",
    "%matplotlib inline"
   ]
  },
  {
   "cell_type": "markdown",
   "metadata": {},
   "source": [
    "Now we'll define our genes."
   ]
  },
  {
   "cell_type": "code",
   "execution_count": 2,
   "metadata": {
    "collapsed": true
   },
   "outputs": [],
   "source": [
    "transcripts = ['ATCTCGACGCACTGC', 'GAGTTCGAACTCTTC', 'AGAGTTCCAGTGTCA', 'AAAGCTCACTGCGGA', 'AGCGATATCAGAGTD']\n",
    "M = len(transcripts)"
   ]
  },
  {
   "cell_type": "markdown",
   "metadata": {},
   "source": [
    "We'll randomly generate the true distribution $\\rho$. "
   ]
  },
  {
   "cell_type": "code",
   "execution_count": 3,
   "metadata": {
    "collapsed": false
   },
   "outputs": [
    {
     "data": {
      "text/plain": [
       "<Container object of 5 artists>"
      ]
     },
     "execution_count": 3,
     "metadata": {},
     "output_type": "execute_result"
    },
    {
     "data": {
      "image/png": "[encoded data removed]",
      "text/plain": [
       "<matplotlib.figure.Figure at 0x10820f690>"
      ]
     },
     "metadata": {},
     "output_type": "display_data"
    }
   ],
   "source": [
    "rho = np.random.rand(M)\n",
    "rho /= sum(rho)\n",
    "plt.bar(np.arange(M) + 0.6, rho, width=0.8)"
   ]
  },
  {
   "cell_type": "markdown",
   "metadata": {},
   "source": [
    "We'll then pick 1000 random reads of length 5 each."
   ]
  },
  {
   "cell_type": "code",
   "execution_count": 4,
   "metadata": {
    "collapsed": false
   },
   "outputs": [
    {
     "name": "stdout",
     "output_type": "stream",
     "text": [
      "('First 10 reads...', ['TCACT', 'TCTCG', 'CGCAC', 'AGTGT', 'CTCAC', 'TCTCG', 'CTCAC', 'TCACT', 'GCACT', 'AGAGT'])\n"
     ]
    }
   ],
   "source": [
    "def random_read(s, rho, L):\n",
    "    chosen_seq = np.random.choice(s, p=rho)\n",
    "    start_idx = np.random.randint(0, len(chosen_seq) - L)\n",
    "    end_idx = start_idx + L\n",
    "    return chosen_seq[start_idx:end_idx]\n",
    "        \n",
    "N = 1000 # Number of reads\n",
    "L = 5\n",
    "\n",
    "reads = []\n",
    "for i in range(N):\n",
    "    reads.append(random_read(transcripts, rho, L))\n",
    "    \n",
    "print('First 10 reads...', reads[0:10])"
   ]
  },
  {
   "cell_type": "markdown",
   "metadata": {},
   "source": [
    "In the code below, implement a way to compute the compatibility matrix $A$ as well as the EM algorith itself. Then, run the algorithm for 100 iterations and report your estimated distribution of $\\rho$ (store it in ```rho_est```)."
   ]
  },
  {
   "cell_type": "code",
   "execution_count": 5,
   "metadata": {
    "collapsed": false
   },
   "outputs": [],
   "source": [
    "N_iter = 100 #number of E/M iterations\n",
    "\n",
    "rho_est = np.array([1/5, 1/5, 1/5, 1/5, 1/5])"
   ]
  },
  {
   "cell_type": "code",
   "execution_count": 6,
   "metadata": {
    "collapsed": true
   },
   "outputs": [],
   "source": [
    "# Compute your compatibility matrix here.\n",
    "A = []\n",
    "\n",
    "# Implement the EM algorithm here.\n",
    "for i in range(N_iter):\n",
    "    \n",
    "    # 1. E step\n",
    "    # 2. M step\n",
    "    \n",
    "    pass"
   ]
  },
  {
   "cell_type": "markdown",
   "metadata": {},
   "source": [
    "**Begin Solution**"
   ]
  },
  {
   "cell_type": "code",
   "execution_count": 7,
   "metadata": {
    "collapsed": true
   },
   "outputs": [],
   "source": [
    "def find_all_alignments(s, read):\n",
    "    tmp = []\n",
    "    for j in range(len(s)):\n",
    "        if read in s[j]:\n",
    "            tmp.append(j)\n",
    "    return tmp\n",
    "\n",
    "A = []\n",
    "for each_read in reads:\n",
    "    A.append(find_all_alignments(transcripts, each_read))"
   ]
  },
  {
   "cell_type": "code",
   "execution_count": 8,
   "metadata": {
    "collapsed": true
   },
   "outputs": [],
   "source": [
    "hidden_state_prior = np.zeros([N, M])\n",
    "\n",
    "for i in range(N_iter):\n",
    "\n",
    "    # Update hidden_state_prior (E)\n",
    "    for j in range(N):\n",
    "        chosen_rho = rho_est[ A[j] ]\n",
    "        hidden_state_prior[ j, : ] = 0\n",
    "        hidden_state_prior[ j, A[j] ] = chosen_rho / sum(chosen_rho)\n",
    "    \n",
    "    # Update rho (M)\n",
    "    rho_est = np.sum(hidden_state_prior, axis=0) / N"
   ]
  },
  {
   "cell_type": "markdown",
   "metadata": {},
   "source": [
    "**End Solution**"
   ]
  },
  {
   "cell_type": "markdown",
   "metadata": {},
   "source": [
    "Your estimated distribution should look similar to the real distribution."
   ]
  },
  {
   "cell_type": "code",
   "execution_count": 9,
   "metadata": {
    "collapsed": false
   },
   "outputs": [
    {
     "name": "stdout",
     "output_type": "stream",
     "text": [
      "('(real) rho', array([ 0.43694462,  0.01505842,  0.28030027,  0.20506105,  0.06263564]))\n",
      "('(est.) rho', array([ 0.44685714,  0.0129316 ,  0.30466809,  0.18514286,  0.05040031]))\n"
     ]
    }
   ],
   "source": [
    "print('(real) rho', rho)\n",
    "print('(est.) rho', rho_est)"
   ]
  },
  {
   "cell_type": "code",
   "execution_count": 10,
   "metadata": {
    "collapsed": false
   },
   "outputs": [
    {
     "data": {
      "image/png": "[encoded data removed]",
      "text/plain": [
       "<matplotlib.figure.Figure at 0x1082ee150>"
      ]
     },
     "metadata": {},
     "output_type": "display_data"
    }
   ],
   "source": [
    "plt.bar(np.arange(M) + 0.6, rho, color='blue', width=0.4, label='Real')\n",
    "plt.bar(np.arange(M) + 1, rho_est, color='green', width=0.4, label='Estimated')\n",
    "plt.legend(loc=9, bbox_to_anchor=(0.5, -0.1))\n",
    "plt.show()"
   ]
  },
  {
   "cell_type": "markdown",
   "metadata": {},
   "source": [
    "### 3c. Run the same EM algorithm on our bigger dataset."
   ]
  },
  {
   "cell_type": "markdown",
   "metadata": {},
   "source": [
    "Let's try running the same algorithm on much more data. In particular, we'll be looking at an application of RNA sequencing where studying the relative abundance of certain short transcripts called microRNA's can help determine whether a patient with chronic lymphocytic leukemia has the slow growing form or the aggressive form of the disease (https://en.wikipedia.org/wiki/MicroRNA). Here, we've loaded in 200 transcripts, each of length 20, as well as 10000 reads for each of three patients. A higher proportion of the first 10 transcripts indicate that the patient has the aggressive form of the disease. Your job is to use the EM algorithm to determine which patients have which form of the disease."
   ]
  },
  {
   "cell_type": "code",
   "execution_count": 11,
   "metadata": {
    "collapsed": true
   },
   "outputs": [],
   "source": [
    "M, N = 200, 10000\n",
    "transcripts = np.load('transcripts.npy')\n",
    "all_reads = np.load('reads.npy')\n",
    "patient1_reads = all_reads[0]\n",
    "patient2_reads = all_reads[1]\n",
    "patient3_reads = all_reads[2]"
   ]
  },
  {
   "cell_type": "markdown",
   "metadata": {},
   "source": [
    "**Begin Solution**"
   ]
  },
  {
   "cell_type": "code",
   "execution_count": 12,
   "metadata": {
    "collapsed": false
   },
   "outputs": [],
   "source": [
    "def EM(transcripts, reads, N_iter=100):\n",
    "    # First, compute the compability matrix.\n",
    "    A = []\n",
    "    for each_read in reads:\n",
    "        A.append(find_all_alignments(transcripts, each_read))\n",
    "        \n",
    "    hidden_state_prior = np.zeros([N, M])\n",
    "    rho_est = np.ones(len(transcripts)) / len(transcripts)\n",
    "\n",
    "    # Run the EM Algorithm.\n",
    "    for i in range(N_iter):\n",
    "\n",
    "        # Update hidden_state_prior (E)\n",
    "        for j in range(N):\n",
    "            chosen_rho = rho_est[ A[j] ]\n",
    "            hidden_state_prior[ j, : ] = 0\n",
    "            hidden_state_prior[ j, A[j] ] = chosen_rho / sum(chosen_rho)\n",
    "\n",
    "        # Update rho (M)\n",
    "        rho_est = np.sum(hidden_state_prior, axis=0) / N\n",
    "        \n",
    "    return rho_est"
   ]
  },
  {
   "cell_type": "code",
   "execution_count": 13,
   "metadata": {
    "collapsed": false
   },
   "outputs": [
    {
     "data": {
      "text/plain": [
       "<Container object of 3 artists>"
      ]
     },
     "execution_count": 13,
     "metadata": {},
     "output_type": "execute_result"
    },
    {
     "data": {
      "image/png": "[encoded data removed]",
      "text/plain": [
       "<matplotlib.figure.Figure at 0x1083868d0>"
      ]
     },
     "metadata": {},
     "output_type": "display_data"
    }
   ],
   "source": [
    "plt.stem(EM(transcripts, patient1_reads))"
   ]
  },
  {
   "cell_type": "code",
   "execution_count": 14,
   "metadata": {
    "collapsed": false
   },
   "outputs": [
    {
     "data": {
      "text/plain": [
       "<Container object of 3 artists>"
      ]
     },
     "execution_count": 14,
     "metadata": {},
     "output_type": "execute_result"
    },
    {
     "data": {
      "image/png": "[encoded data removed]",
      "text/plain": [
       "<matplotlib.figure.Figure at 0x109e63a90>"
      ]
     },
     "metadata": {},
     "output_type": "display_data"
    }
   ],
   "source": [
    "plt.stem(EM(transcripts, patient2_reads))"
   ]
  },
  {
   "cell_type": "code",
   "execution_count": 15,
   "metadata": {
    "collapsed": false
   },
   "outputs": [
    {
     "data": {
      "text/plain": [
       "<Container object of 3 artists>"
      ]
     },
     "execution_count": 15,
     "metadata": {},
     "output_type": "execute_result"
    },
    {
     "data": {
      "image/png": "[encoded data removed]",
      "text/plain": [
       "<matplotlib.figure.Figure at 0x10a460750>"
      ]
     },
     "metadata": {},
     "output_type": "display_data"
    }
   ],
   "source": [
    "plt.stem(EM(transcripts, patient3_reads))"
   ]
  },
  {
   "cell_type": "markdown",
   "metadata": {},
   "source": [
    "From the plots, we see that patient 3 appears to have a much higher proportion of the first ten genes, so we conclude that patient 3 is the only one with the aggressive form of the disease."
   ]
  },
  {
   "cell_type": "markdown",
   "metadata": {},
   "source": [
    "**End Solution**"
   ]
  },
  {
   "cell_type": "markdown",
   "metadata": {},
   "source": [
    "Congratulations -- you've just finished your last lab for EE 126!\n",
    "\n",
    "Take a minute to appreciate what you've accomplished throughout the semester. This class wasn't easy, but hopefully you've learned a lot! Come see us if you'd like some help figuring out where to go from here."
   ]
  },
  {
   "cell_type": "markdown",
   "metadata": {},
   "source": [
    "## References\n",
    "\n",
    "[1] L. Pachter. Models for transcript quantification from RNA-Seq. available at arXiv:1104.3889 [q-bio.GN], 2011. <br />\n",
    "[2] A. Roberts and L. Pachter, RNA-Seq and find: entering the RNA deep field, Genome Medicine, 3 (2011), 74.<br/>\n",
    "[3] C. Do and S. Batzoglou, What is the expectation maximization algorithm? Nature Biotechnology, 26 (2008), 8."
   ]
  }
 ],
 "metadata": {
  "kernelspec": {
   "display_name": "Python 2",
   "language": "python",
   "name": "python2"
  },
  "language_info": {
   "codemirror_mode": {
    "name": "ipython",
    "version": 3
   },
   "file_extension": ".py",
   "mimetype": "text/x-python",
   "name": "python",
   "nbconvert_exporter": "python",
   "pygments_lexer": "ipython3",
   "version": "3.6.4"
  }
 },
 "nbformat": 4,
 "nbformat_minor": 2
}
