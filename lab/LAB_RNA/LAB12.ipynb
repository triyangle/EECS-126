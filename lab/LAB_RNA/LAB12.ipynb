{
 "cells": [
  {
   "cell_type": "markdown",
   "metadata": {},
   "source": [
    "# Lab 12 - RNA Sequencing through Expectation Maximization\n",
    "\n",
    "*This lab has been iteratively developed for EE 126 at UC Berkeley by Rishi Sharma, Sahaana Suri, Paul Rigge, Kangwook Lee, Kabir Chandrasekher, Max Kanwal, Tony Duan, David Marn, Ashvin Nair, Tavor Baharav, Sinho Chewi, Andrew Liu, Kamil Nar, David Wang, and Kannan Ramchandran. Special thanks to David Tse and the teaching staff of EE 178 at Stanford University for contributing to the lab as well.*"
   ]
  },
  {
   "cell_type": "markdown",
   "metadata": {},
   "source": [
    "## Table of Contents\n",
    "\n",
    "\n",
    "- [Introduction](#Introduction)\n",
    "- [MLE for a simple model](#Question-1----Simple-Model)\n",
    "- [MLE for a harder model](#Question-2----Harder-Model)\n",
    "- [EM algorithm for the harder model](#Question-3----EM-Algorithm)\n",
    "- [References](#References)"
   ]
  },
  {
   "cell_type": "markdown",
   "metadata": {},
   "source": [
    "## Introduction\n",
    "\n",
    "In the central dogma of biology, DNA is transcribed into RNA which is then translated into proteins. In the transcription process, RNA transcripts are created by concatenating certain regions of the genome called exons. Each transcript is a sequence of A,G,C,T's, typically of the order of 10,000 symbols long. There are about 100,000 possible transcripts whose sequences are known in sequencing databases. However, in a particular cell, only a subset of all possible transcripts are expressed. A biologist is interested in the abundances of the transcripts expressed, i.e. the relative proportion of occurrences of the transcripts expressed. The problem of [RNA sequencing](http://en.wikipedia.org/wiki/RNA-Seq) is to figure out how much and what type of RNA transcripts is present in a biological sample at a given moment in time, using sequencing data consists of short reads. It has many applications including genome annotation, comprehensive identification of fusions in cancer, discovery of novel isoforms of genes, and genome sequence assembly [[1][2]](#References).\n",
    "\n",
    "For our purposes, we'll formulate the problem as follows: the RNA consists of a set of transcripts or genes (we'll use these two terms interchangeably in the lab). Given a set of short reads that are sampled from  the transcripts, how can we estimate the relative abundance of each transcript? This process is depicted in the following figure (ref: pp16-17 Pachter 2011). The problem is particularly challenging because transcripts share common exon regions from the genome, and therefore there may be ambiguity as to which transcript a given read comes from.\n",
    "\n",
    "<img src=\"http://i.imgur.com/61e7d16.jpg\" title=\"source: imgur.com\" width=\"50%\"/>\n",
    "\n",
    "#### <center>Figure 1: We want to use the reads to guess the underlying proportion of transcripts.</center>"
   ]
  },
  {
   "cell_type": "markdown",
   "metadata": {},
   "source": [
    "It turns out we can use some methods we learned in class (MLE & EM) to solve this problem -- let's try it out.\n",
    "\n",
    "We assume that all genes are of the same length, $\\ell_t$, and all reads are of the same length, $\\ell_x$. Then, we assume the following Bayesian generative model:\n",
    "\n",
    "1. A read comes from a randomly chosen gene $t_i$.\n",
    "2. A read's starting point is randomly chosen among all possible starting positions in that gene (i.e., the locations from which we can make a full read of length $\\ell_x$).\n",
    "\n",
    "Given a set of reads $X = \\{X_1 \\ldots X_n\\}$, we want to figure out what distribution $\\rho = \\{ \\rho_1 \\ldots \\rho_m \\}$ over the genes was most likely to give us the reads $X$. To do this, we'll need to maximize the following likelihood function:\n",
    "\n",
    "$$ L(\\rho) = \\prod_{i=1}^{N}{  P(X_i|\\rho)  } $$"
   ]
  },
  {
   "cell_type": "markdown",
   "metadata": {},
   "source": [
    "## Question 1 -- Simple Model\n",
    "\n",
    "To make life easier, we're first going to assume no read is ambiguous. That is -- given a read, we can immediately tell which gene it came from. (In practice, this means we would have to know the chart mapping each color to a gene, as in Figure 1.)"
   ]
  },
  {
   "cell_type": "markdown",
   "metadata": {},
   "source": [
    "### 1a. Suppose you are given a read $X_i$ -- what is $P(X_i|\\rho)$?\n",
    "\n",
    "Your solution should take both the gene lengths and the read lengths into consideration. Denote the probability of seeing a specific gene as $\\rho_{t_i}$.\n",
    "\n",
    "Hint: how many possible starting positions exist for $X_i$?"
   ]
  },
  {
   "cell_type": "markdown",
   "metadata": {},
   "source": [
    "$$\\mathbb{P}[X_{i} \\mid \\rho] = \\frac{\\rho_{t_{i}}}{l_{t} - l_{x} + 1}$$"
   ]
  },
  {
   "cell_type": "markdown",
   "metadata": {},
   "source": [
    "### 1b. Assume that you have two genes. Find the MLE of $\\rho$ if you find $x$ reads compatible with gene $1$, and $n-x$ reads compatible with gene $2$. "
   ]
  },
  {
   "cell_type": "markdown",
   "metadata": {},
   "source": [
    "$$\\text{MLE}[\\rho \\mid x, n - x] = \\underset{\\rho}{\\text{arg max }} \\mathbb{P}[x, n - x \\mid P = \\rho] = \\underset{\\rho}{\\text{arg max }} \\frac{\\rho_{t_{1}}^{x} \\rho_{t_{2}}^{n - x}}{(l_{t} - l_{x} + 1)^{n}}$$\n",
    "$$\\rho_{t_{1}} = \\frac{x}{n}$$\n",
    "$$\\rho_{t_{2}} = \\frac{n - x}{n}$$"
   ]
  },
  {
   "cell_type": "markdown",
   "metadata": {},
   "source": [
    "### 1c. Assume you have $M$ genes. Out of $n$ reads, $x_i$ reads are compatible with gene $i$, where $\\sum_{i=1}^{M}{x_i} = n$. Find the maximum likelihood estimator of $\\rho$. \n",
    "\n",
    "Hint: you might just be able to make an \"educated guess\" from your answer above. "
   ]
  },
  {
   "cell_type": "markdown",
   "metadata": {},
   "source": [
    "$$\\text{MLE}[\\rho \\mid x_{i}~\\forall i] = \\underset{\\rho}{\\text{arg max }} \\prod_{i = 1}^{M} \\mathbb{P}[x_{i} \\mid P = \\rho] = \\underset{\\rho}{\\text{arg max }} \\frac{\\prod_{i = 1}^{M} \\rho_{t_{i}}^{x_{i}}}{(l_{t} - l_{x} + 1)^{n}}$$\n",
    "$$\\rho_{t_{i}} = \\frac{x_{i}}{n} ~ \\forall i$$"
   ]
  },
  {
   "cell_type": "markdown",
   "metadata": {},
   "source": [
    "## Question 2 -- Harder Model\n",
    "\n",
    "Life gets harder when you allow for ambiguous reads. Going back to the figure above, we can imagine a case where we don't know which color a read belongs to, but we have a rough idea of the possible colors it could have been. See the modified figure below.\n",
    "\n",
    "<img src=\"http://i.imgur.com/5qOUtbt.jpg\" title=\"source: imgur.com\" width=\"50%\"/>\n",
    "#### <center> Figure 2: Again, we want to use the reads to estimate the proportion of genes, but now, we don't know for certain which read came from which gene.  </center>\n",
    "In this portion, we'll consider a general problem where a read is aligned with possibly more than one gene. \n",
    "\n",
    "First, we define a compatibility matrix $A \\in \\{0,1\\}^{n \\times m} = \\{a_{i,j}\\}$, where $a_{i,j}$ is $1$ if read $i$ is aligned with gene $j$, $0$ otherwise. "
   ]
  },
  {
   "cell_type": "markdown",
   "metadata": {},
   "source": [
    "As a motivating example, let's assume we have $3$ genes and $5$ reads aligned as follows:\n",
    "\n",
    "(ref: pp16-17 Pachter 2011)\n",
    "\n",
    "<img src=\"http://i.imgur.com/a0ZtnSV.png\">\n",
    "#### <center> Figure 3: Each read is a subset of some gene, and it can be compatible with multiple genes.</center>\n",
    "\n",
    "### 2a. Find the compatibility matrix $A$ for the above figure."
   ]
  },
  {
   "cell_type": "markdown",
   "metadata": {},
   "source": [
    "$$A =\n",
    "\\begin{bmatrix}\n",
    "1 & 1 & 1\n",
    "\\\\\n",
    "0 & 1 & 1\n",
    "\\\\\n",
    "1 & 0 & 1\n",
    "\\\\\n",
    "1 & 0 & 0\n",
    "\\\\\n",
    "1 & 1 & 0\n",
    "\\end{bmatrix}$$"
   ]
  },
  {
   "cell_type": "markdown",
   "metadata": {},
   "source": [
    "### 2b. Given an arbitrary compatibility matrix, write an expression to find the likelihood function for $\\rho$.\n",
    "\n",
    "You'll have to tweak your solution to the last portion by carefully considering how you can represent $P(X_i|\\rho)$ given the compatibility matrix $A$."
   ]
  },
  {
   "cell_type": "markdown",
   "metadata": {},
   "source": [
    "$$L(\\rho) = \\prod_{i = 1}^{N} \\mathbb{P}[X_{i} \\mid \\rho] = \\prod_{i = 1}^{N} \\sum_{j = 1}^{M} A_{ij} \\rho_{j}$$"
   ]
  },
  {
   "cell_type": "markdown",
   "metadata": {},
   "source": [
    "## Question 3 -- EM Algorithm\n",
    "\n",
    "In general, it is not easy to find the exact maximum likelihood estimator of $\\rho$ if ambiguous reads exist. Instead, we can rely on iterative methods that we hope will converge to the true value. One way to go about this is via expectation maximization (EM), as you have seen in class. \n",
    "\n",
    "To recap, [here](http://ai.stanford.edu/~chuongdo/papers/em_tutorial.pdf) is a short tutorial that does a wonderful job of explaining all that you need to know about EM [[3]](#References)."
   ]
  },
  {
   "cell_type": "markdown",
   "metadata": {},
   "source": [
    "For our purposes, here is an EM algorithm that can be used. You'll be implementing it shortly, so read it carefully and understand why it works. \n",
    "\n",
    "1. Initialize $\\rho = (\\frac{1}{M}, \\frac{1}{M}, \\ldots, \\frac{1}{M})$, all genes are equally probable.\n",
    "2. Find the compatibility matrix $A$.\n",
    "3. Repeat the following until $\\rho$ converges:<br/>\n",
    "    a. Each reading $i$ corresponds to the $i$th row of $A$. Call this $\\mathcal{I}_i$.<br/>\n",
    "    b. Put the values of $\\rho$ in $\\mathcal{I}_i$ where $\\mathcal{I}_i$ is not zero. Then normalize the vector and replace the $i$th row of $A$ with the normalized vector.<br/>\n",
    "    c. Replace $\\rho$ such that for each gene $j$, $\\rho_j = \\frac{1}{N}\\sum_{i=1}^{N}{A_{i,j}}$\n",
    "\n",
    "The following figure is a visual representation of the algorithm (Ref: p17 Pachter 2011) [[1]](#References)."
   ]
  },
  {
   "cell_type": "markdown",
   "metadata": {},
   "source": [
    "<img src=\"http://imgur.com/S0SKEzP.png\" title=\"source: imgur.com\" />\n",
    "#### <center> Figure 4: Visualization of the EM algorithm we will use. </center>"
   ]
  },
  {
   "cell_type": "markdown",
   "metadata": {},
   "source": [
    "This is a lot to digest at once, so let's only look at the first step to begin with.\n",
    "\n",
    "There are three possible genes to analyze (red, green, blue). There are five reads (a,b,c,d,e) that align with different genes. Initially, you assume a uniform prior.\n",
    "\n",
    "1. E step. Reads are proportionately assigned to each of the genes they could have come from, according to the current distribution $\\rho$.\n",
    "2. M step. The distribution $\\rho$ is recalculated proportionally from the assigned read counts from the E step.\n",
    "\n",
    "For example, the abundance of red after the first M step is estimated by\n",
    "\n",
    "$$\\rho_1 = 0.47 = \\frac{0.33 + 0.5 + 1 + 0.5}{5}$$"
   ]
  },
  {
   "cell_type": "markdown",
   "metadata": {},
   "source": [
    "### 3a. Will the above EM algorithm always find the MLE for $\\rho$? "
   ]
  },
  {
   "cell_type": "markdown",
   "metadata": {},
   "source": [
    "No"
   ]
  },
  {
   "cell_type": "markdown",
   "metadata": {},
   "source": [
    "### 3b. Implement the above EM algorithm. Run it with the given set of reads & genes. What is your estimated $\\rho$?"
   ]
  },
  {
   "cell_type": "markdown",
   "metadata": {},
   "source": [
    "Let's begin by with a toy example. We'll start by making the relevant imports..."
   ]
  },
  {
   "cell_type": "code",
   "execution_count": 1,
   "metadata": {
    "collapsed": false
   },
   "outputs": [],
   "source": [
    "from __future__ import division\n",
    "import numpy as np\n",
    "import matplotlib.pyplot as plt\n",
    "%matplotlib inline"
   ]
  },
  {
   "cell_type": "markdown",
   "metadata": {},
   "source": [
    "Now we'll define our genes."
   ]
  },
  {
   "cell_type": "code",
   "execution_count": 2,
   "metadata": {
    "collapsed": true
   },
   "outputs": [],
   "source": [
    "transcripts = ['ATCTCGACGCACTGC', 'GAGTTCGAACTCTTC', 'AGAGTTCCAGTGTCA', 'AAAGCTCACTGCGGA', 'AGCGATATCAGAGTD']\n",
    "M = len(transcripts)"
   ]
  },
  {
   "cell_type": "markdown",
   "metadata": {},
   "source": [
    "We'll randomly generate the true distribution $\\rho$. "
   ]
  },
  {
   "cell_type": "code",
   "execution_count": 3,
   "metadata": {
    "collapsed": false
   },
   "outputs": [
    {
     "data": {
      "text/plain": [
       "<BarContainer object of 5 artists>"
      ]
     },
     "execution_count": 3,
     "metadata": {},
     "output_type": "execute_result"
    },
    {
     "data": {
      "image/png": "[encoded data removed]",
      "text/plain": [
       "<Figure size 640x480 with 1 Axes>"
      ]
     },
     "metadata": {},
     "output_type": "display_data"
    }
   ],
   "source": [
    "plt.style.use('default')\n",
    "rho = np.random.rand(M)\n",
    "rho /= sum(rho)\n",
    "plt.bar(np.arange(M) + 0.6, rho, width=0.8)"
   ]
  },
  {
   "cell_type": "markdown",
   "metadata": {},
   "source": [
    "We'll then pick 1000 random reads of length 5 each."
   ]
  },
  {
   "cell_type": "code",
   "execution_count": 4,
   "metadata": {
    "collapsed": false
   },
   "outputs": [
    {
     "name": "stdout",
     "output_type": "stream",
     "text": [
      "First 10 reads... ['ATATC', 'CGATA', 'CCAGT', 'CGACG', 'TCGAC', 'GCACT', 'TCGAC', 'AGTTC', 'GACGC', 'CGACG']\n"
     ]
    }
   ],
   "source": [
    "def random_read(s, rho, L):\n",
    "    chosen_seq = np.random.choice(s, p=rho)\n",
    "    start_idx = np.random.randint(0, len(chosen_seq) - L)\n",
    "    end_idx = start_idx + L\n",
    "    return chosen_seq[start_idx:end_idx]\n",
    "        \n",
    "N = 1000 # Number of reads\n",
    "L = 5\n",
    "\n",
    "reads = []\n",
    "for i in range(N):\n",
    "    reads.append(random_read(transcripts, rho, L))\n",
    "    \n",
    "print('First 10 reads...', reads[0:10])"
   ]
  },
  {
   "cell_type": "markdown",
   "metadata": {},
   "source": [
    "In the code below, implement a way to compute the compatibility matrix $A$ as well as the EM algorith itself. Then, run the algorithm for 100 iterations and report your estimated distribution of $\\rho$ (store it in ```rho_est```)."
   ]
  },
  {
   "cell_type": "code",
   "execution_count": 5,
   "metadata": {
    "collapsed": false
   },
   "outputs": [],
   "source": [
    "N_iter = 100 #number of E/M iterations\n",
    "\n",
    "rho_est = np.array([1/5, 1/5, 1/5, 1/5, 1/5])"
   ]
  },
  {
   "cell_type": "code",
   "execution_count": 6,
   "metadata": {},
   "outputs": [],
   "source": [
    "# Compute your compatibility matrix here.\n",
    "A = np.zeros((N, M))\n",
    "\n",
    "for n, read in enumerate(reads):\n",
    "    for m, transcript in enumerate(transcripts):\n",
    "        if read in transcript:\n",
    "            A[n][m] = 1\n",
    "\n",
    "# Implement the EM algorithm here.\n",
    "for i in range(N_iter):\n",
    "    \n",
    "    # 1. E step\n",
    "    for n, row in enumerate(A):\n",
    "        for m in range(M):\n",
    "            if row[m]:\n",
    "                row[m] = rho_est[m]\n",
    "        row /= sum(row)\n",
    "        \n",
    "    # 2. M step\n",
    "    rho_est = np.sum(A, 0) / N\n"
   ]
  },
  {
   "cell_type": "markdown",
   "metadata": {},
   "source": [
    "Your estimated distribution should look similar to the real distribution."
   ]
  },
  {
   "cell_type": "code",
   "execution_count": 7,
   "metadata": {
    "collapsed": false
   },
   "outputs": [
    {
     "name": "stdout",
     "output_type": "stream",
     "text": [
      "(real) rho [0.43181439 0.21418413 0.14362923 0.10830976 0.10206248]\n",
      "(est.) rho [0.45051313 0.19164474 0.1236629  0.11548687 0.11869236]\n"
     ]
    }
   ],
   "source": [
    "print('(real) rho', rho)\n",
    "print('(est.) rho', rho_est)"
   ]
  },
  {
   "cell_type": "code",
   "execution_count": 8,
   "metadata": {
    "collapsed": false
   },
   "outputs": [
    {
     "data": {
      "image/png": "[encoded data removed]",
      "text/plain": [
       "<Figure size 640x480 with 1 Axes>"
      ]
     },
     "metadata": {},
     "output_type": "display_data"
    }
   ],
   "source": [
    "plt.bar(np.arange(M) + 0.6, rho, color='blue', width=0.4, label='Real')\n",
    "plt.bar(np.arange(M) + 1, rho_est, color='green', width=0.4, label='Estimated')\n",
    "plt.legend(loc=9, bbox_to_anchor=(0.5, -0.1))\n",
    "plt.show()"
   ]
  },
  {
   "cell_type": "markdown",
   "metadata": {},
   "source": [
    "### 3c. Run the same EM algorithm on our bigger dataset."
   ]
  },
  {
   "cell_type": "markdown",
   "metadata": {},
   "source": [
    "Let's try running the same algorithm on much more data. In particular, we'll be looking at an application of RNA sequencing where studying the relative abundance of certain short transcripts called microRNA's can help determine whether a patient with chronic lymphocytic leukemia has the slow growing form or the aggressive form of the disease (https://en.wikipedia.org/wiki/MicroRNA). Here, we've loaded in 200 transcripts, each of length 20, as well as 10000 reads for each of three patients. A higher proportion of the first 10 transcripts indicate that the patient has the aggressive form of the disease. Your job is to use the EM algorithm to determine which patients have which form of the disease."
   ]
  },
  {
   "cell_type": "code",
   "execution_count": 9,
   "metadata": {
    "collapsed": true
   },
   "outputs": [],
   "source": [
    "M, N = 200, 10000\n",
    "transcripts = np.load('transcripts.npy')\n",
    "all_reads = np.load('reads.npy')\n",
    "patient1_reads = all_reads[0]\n",
    "patient2_reads = all_reads[1]\n",
    "patient3_reads = all_reads[2]"
   ]
  },
  {
   "cell_type": "code",
   "execution_count": 10,
   "metadata": {
    "collapsed": false
   },
   "outputs": [],
   "source": [
    "# Your code here.\n",
    "def em(patient_read):\n",
    "    rho_est = np.ones(M) / M\n",
    "    \n",
    "    A = np.zeros((N, M))\n",
    "\n",
    "    for n, read in enumerate(patient_read):\n",
    "        decoded_read = read.decode('utf-8')\n",
    "        for m, transcript in enumerate(transcripts):\n",
    "            if decoded_read in transcript.decode('utf-8'):\n",
    "                A[n][m] = 1\n",
    "\n",
    "    # Implement the EM algorithm here.\n",
    "    for i in range(N_iter):\n",
    "        # 1. E step\n",
    "        for n, row in enumerate(A):\n",
    "            for m in range(M):\n",
    "                if row[m]:\n",
    "                    row[m] = rho_est[m]\n",
    "            row /= sum(row)\n",
    "\n",
    "        # 2. M step\n",
    "        rho_est = np.sum(A, 0) / N\n",
    "        \n",
    "    return rho_est"
   ]
  },
  {
   "cell_type": "code",
   "execution_count": 11,
   "metadata": {},
   "outputs": [
    {
     "data": {
      "text/plain": [
       "array([0.00541729, 0.001679  , 0.00473046, 0.00595705, 0.00261754,\n",
       "       0.00643172, 0.00723306, 0.00405617, 0.00525871, 0.00551072,\n",
       "       0.00651398, 0.00445013, 0.00494876, 0.00485765, 0.00670219,\n",
       "       0.00731319, 0.00561787, 0.00333173, 0.00301802, 0.00427677,\n",
       "       0.00451226, 0.0063837 , 0.00581761, 0.00484347, 0.00482882,\n",
       "       0.0063663 , 0.00689057, 0.00229953, 0.00491203, 0.00456743,\n",
       "       0.00376682, 0.00285193, 0.00545523, 0.00429941, 0.00467595,\n",
       "       0.0043489 , 0.00505256, 0.00750195, 0.00611995, 0.00605392,\n",
       "       0.0044836 , 0.00356195, 0.0042359 , 0.00492321, 0.00713622,\n",
       "       0.00705564, 0.00560358, 0.00585206, 0.00258124, 0.00370784,\n",
       "       0.00543403, 0.00473652, 0.0058828 , 0.0051982 , 0.00585583,\n",
       "       0.00542204, 0.00595881, 0.00568416, 0.00797031, 0.00283366,\n",
       "       0.00656183, 0.00505218, 0.00661439, 0.00351364, 0.0042074 ,\n",
       "       0.00794066, 0.00610794, 0.00368812, 0.00350096, 0.00308639,\n",
       "       0.00296652, 0.00404257, 0.00861633, 0.00570306, 0.00610489,\n",
       "       0.00450915, 0.00612375, 0.00523942, 0.00301346, 0.00456002,\n",
       "       0.00500697, 0.00236831, 0.00175745, 0.00774234, 0.0050473 ,\n",
       "       0.00672024, 0.00395   , 0.00457113, 0.00360223, 0.00509738,\n",
       "       0.00497174, 0.00086928, 0.00325481, 0.00346188, 0.00468551,\n",
       "       0.00374943, 0.00314442, 0.00612765, 0.00432569, 0.00312946,\n",
       "       0.00263829, 0.00788956, 0.00664966, 0.00347344, 0.00166185,\n",
       "       0.00299786, 0.00625108, 0.00697225, 0.00499632, 0.00598642,\n",
       "       0.00401564, 0.00439518, 0.00586661, 0.00642911, 0.00687002,\n",
       "       0.00552744, 0.0051785 , 0.003084  , 0.00542622, 0.0052403 ,\n",
       "       0.00584294, 0.00521241, 0.00536109, 0.0051813 , 0.00974665,\n",
       "       0.00689483, 0.00674167, 0.00443356, 0.00289006, 0.00444876,\n",
       "       0.00590079, 0.00521806, 0.00531542, 0.00685609, 0.00151765,\n",
       "       0.00458942, 0.0045066 , 0.0049545 , 0.00482991, 0.00537158,\n",
       "       0.00484397, 0.00242915, 0.00462735, 0.00596008, 0.00387139,\n",
       "       0.00622788, 0.00388642, 0.00564647, 0.00376946, 0.00530457,\n",
       "       0.00538837, 0.00189822, 0.00643233, 0.00565782, 0.00234966,\n",
       "       0.00208884, 0.00756477, 0.00652514, 0.00390932, 0.00399081,\n",
       "       0.00575126, 0.00629531, 0.00525889, 0.00694022, 0.0048531 ,\n",
       "       0.00496515, 0.00546745, 0.00757774, 0.00720979, 0.00601962,\n",
       "       0.00498602, 0.00366374, 0.00394077, 0.00407256, 0.00454974,\n",
       "       0.00941834, 0.00822909, 0.0026956 , 0.00605455, 0.00186166,\n",
       "       0.00488376, 0.00481552, 0.00487248, 0.00592499, 0.00396888,\n",
       "       0.0084911 , 0.00368587, 0.00524694, 0.00686085, 0.00545684,\n",
       "       0.00498518, 0.00351761, 0.0036129 , 0.00619822, 0.00527161,\n",
       "       0.00530795, 0.00454991, 0.00258259, 0.00379452, 0.0061028 ])"
      ]
     },
     "execution_count": 11,
     "metadata": {},
     "output_type": "execute_result"
    }
   ],
   "source": [
    "em(patient1_reads)"
   ]
  },
  {
   "cell_type": "code",
   "execution_count": 12,
   "metadata": {},
   "outputs": [
    {
     "data": {
      "text/plain": [
       "array([0.00612361, 0.00454363, 0.00461821, 0.00579537, 0.00391933,\n",
       "       0.00268534, 0.00892519, 0.0056463 , 0.00538047, 0.00580128,\n",
       "       0.00309136, 0.0040513 , 0.00450479, 0.00428065, 0.00438479,\n",
       "       0.00602174, 0.00512896, 0.00674594, 0.00477065, 0.00426288,\n",
       "       0.00566422, 0.01122343, 0.00220747, 0.00777698, 0.00587014,\n",
       "       0.00596558, 0.00569508, 0.00632076, 0.00208504, 0.00617077,\n",
       "       0.00575725, 0.00413221, 0.00355541, 0.00462682, 0.00366214,\n",
       "       0.00451548, 0.00391927, 0.00470173, 0.00228906, 0.00749436,\n",
       "       0.00622356, 0.00411368, 0.00373826, 0.00344577, 0.00586486,\n",
       "       0.0067551 , 0.00342974, 0.0046489 , 0.00085381, 0.00322756,\n",
       "       0.00566126, 0.00355081, 0.00415682, 0.0043824 , 0.00503615,\n",
       "       0.00409313, 0.00737804, 0.00585467, 0.00675039, 0.00406275,\n",
       "       0.00393646, 0.00634348, 0.00536957, 0.00427079, 0.00677104,\n",
       "       0.00382541, 0.00420023, 0.00561096, 0.00793183, 0.00247248,\n",
       "       0.00535509, 0.00293042, 0.00563537, 0.00654799, 0.00606917,\n",
       "       0.00368811, 0.00460915, 0.00325549, 0.00636655, 0.0046519 ,\n",
       "       0.00820423, 0.00214013, 0.0075536 , 0.00746535, 0.00539145,\n",
       "       0.00378906, 0.005793  , 0.00486838, 0.00396733, 0.00600865,\n",
       "       0.00617843, 0.00661389, 0.00502016, 0.00558494, 0.00530951,\n",
       "       0.00416325, 0.00353302, 0.00375963, 0.00391254, 0.00392323,\n",
       "       0.0087055 , 0.00278857, 0.00557435, 0.00212551, 0.00190622,\n",
       "       0.00674341, 0.00437226, 0.0026971 , 0.00548288, 0.00569419,\n",
       "       0.00522171, 0.00413667, 0.00535486, 0.00642535, 0.00364464,\n",
       "       0.00519037, 0.00287564, 0.00500646, 0.00656293, 0.00399595,\n",
       "       0.00558515, 0.00543485, 0.005365  , 0.00579532, 0.00260954,\n",
       "       0.0044847 , 0.00485327, 0.00483965, 0.00568623, 0.00637276,\n",
       "       0.00432742, 0.00547824, 0.00496404, 0.00707149, 0.00552501,\n",
       "       0.00425855, 0.00682322, 0.00469658, 0.00225428, 0.00650846,\n",
       "       0.00349813, 0.00243746, 0.00119068, 0.00481621, 0.00595393,\n",
       "       0.00774658, 0.00239258, 0.00297114, 0.00335187, 0.00489509,\n",
       "       0.00677404, 0.00632045, 0.00444947, 0.00857239, 0.00361089,\n",
       "       0.005022  , 0.00635401, 0.0054532 , 0.00426358, 0.00188572,\n",
       "       0.00737552, 0.00847838, 0.00366941, 0.00249931, 0.00478025,\n",
       "       0.00810799, 0.0014188 , 0.00638957, 0.00956703, 0.00540802,\n",
       "       0.00722942, 0.00298309, 0.00351142, 0.00455924, 0.00612562,\n",
       "       0.00640456, 0.00629686, 0.00240095, 0.00586498, 0.0057614 ,\n",
       "       0.00604976, 0.00475456, 0.00656708, 0.00589662, 0.00598737,\n",
       "       0.00557422, 0.00334645, 0.00443267, 0.00379322, 0.00262281,\n",
       "       0.00504894, 0.00566345, 0.00499043, 0.00804008, 0.00489373,\n",
       "       0.00589383, 0.00459445, 0.00306598, 0.00390618, 0.00608475])"
      ]
     },
     "execution_count": 12,
     "metadata": {},
     "output_type": "execute_result"
    }
   ],
   "source": [
    "em(patient2_reads)"
   ]
  },
  {
   "cell_type": "code",
   "execution_count": 13,
   "metadata": {},
   "outputs": [
    {
     "data": {
      "text/plain": [
       "array([0.01398914, 0.01623418, 0.0136143 , 0.01398143, 0.01744219,\n",
       "       0.01717646, 0.01384525, 0.01792051, 0.01577271, 0.01583132,\n",
       "       0.00192867, 0.00339653, 0.00521563, 0.006172  , 0.00509958,\n",
       "       0.0047946 , 0.00108303, 0.00626465, 0.00653673, 0.00322165,\n",
       "       0.00514334, 0.00693018, 0.00465672, 0.00606398, 0.00576299,\n",
       "       0.00558244, 0.00529325, 0.00280966, 0.00176589, 0.00539614,\n",
       "       0.00130382, 0.00403037, 0.00216875, 0.00372381, 0.00264616,\n",
       "       0.00181815, 0.00458642, 0.0025847 , 0.00287754, 0.0040666 ,\n",
       "       0.00635633, 0.00119177, 0.00528608, 0.00484938, 0.00499568,\n",
       "       0.00446874, 0.00324311, 0.00592388, 0.0022479 , 0.00232329,\n",
       "       0.00432696, 0.0042135 , 0.00332761, 0.005095  , 0.00411811,\n",
       "       0.00800153, 0.00438084, 0.00553138, 0.00652907, 0.00291937,\n",
       "       0.00343247, 0.00510191, 0.00744808, 0.00292938, 0.00479929,\n",
       "       0.0024738 , 0.00437907, 0.00264534, 0.00523808, 0.00438322,\n",
       "       0.00283865, 0.00672531, 0.00351787, 0.00468613, 0.00590135,\n",
       "       0.00297094, 0.00504046, 0.00273827, 0.00381002, 0.00395087,\n",
       "       0.00550689, 0.00247064, 0.00534194, 0.00599906, 0.00366182,\n",
       "       0.00355587, 0.00257286, 0.00406099, 0.00522959, 0.00435179,\n",
       "       0.00345891, 0.0042563 , 0.00071188, 0.00226923, 0.00203939,\n",
       "       0.00249347, 0.00477958, 0.00462998, 0.00334437, 0.00352179,\n",
       "       0.00265691, 0.00691936, 0.00443462, 0.00649392, 0.00511455,\n",
       "       0.00176097, 0.00359188, 0.00263589, 0.00387395, 0.00865701,\n",
       "       0.00444205, 0.00426451, 0.00553991, 0.00705911, 0.00438642,\n",
       "       0.0044275 , 0.00511055, 0.00489997, 0.00624106, 0.00724406,\n",
       "       0.00226911, 0.00819921, 0.00667807, 0.00624237, 0.00466281,\n",
       "       0.0075066 , 0.00476361, 0.00683302, 0.00624294, 0.00594688,\n",
       "       0.00506744, 0.00427823, 0.00636542, 0.00302175, 0.00652541,\n",
       "       0.00163606, 0.00200904, 0.00384525, 0.00520836, 0.00555367,\n",
       "       0.00461851, 0.00342809, 0.00364844, 0.0043061 , 0.00510755,\n",
       "       0.0040747 , 0.00246357, 0.00538917, 0.00209209, 0.00808619,\n",
       "       0.00766781, 0.00549274, 0.00540286, 0.00634113, 0.0026188 ,\n",
       "       0.00491297, 0.00552041, 0.00241468, 0.00434243, 0.00321637,\n",
       "       0.00343334, 0.00437529, 0.00602427, 0.00649831, 0.00249096,\n",
       "       0.00544595, 0.00215725, 0.00520574, 0.00656744, 0.00405577,\n",
       "       0.00590295, 0.00196947, 0.00468531, 0.00780493, 0.00491933,\n",
       "       0.00348013, 0.00430339, 0.00349013, 0.00587464, 0.00111657,\n",
       "       0.00614483, 0.00502608, 0.00336868, 0.00770373, 0.00303334,\n",
       "       0.00525445, 0.00379934, 0.00387747, 0.0045557 , 0.00270438,\n",
       "       0.00553478, 0.00059742, 0.00199099, 0.00542005, 0.00235931,\n",
       "       0.00766374, 0.00594753, 0.00490002, 0.00166445, 0.00757065])"
      ]
     },
     "execution_count": 13,
     "metadata": {},
     "output_type": "execute_result"
    }
   ],
   "source": [
    "em(patient3_reads)"
   ]
  },
  {
   "cell_type": "markdown",
   "metadata": {},
   "source": [
    "Congratulations -- you've just finished your last lab for EE 126!\n",
    "\n",
    "Take a minute to appreciate what you've accomplished throughout the semester. This class wasn't easy, but hopefully you've learned a lot! Come see us if you'd like some help figuring out where to go from here."
   ]
  },
  {
   "cell_type": "markdown",
   "metadata": {},
   "source": [
    "## References\n",
    "\n",
    "[1] L. Pachter. Models for transcript quantification from RNA-Seq. available at arXiv:1104.3889 [q-bio.GN], 2011. <br />\n",
    "[2] A. Roberts and L. Pachter, RNA-Seq and find: entering the RNA deep field, Genome Medicine, 3 (2011), 74.<br/>\n",
    "[3] C. Do and S. Batzoglou, What is the expectation maximization algorithm? Nature Biotechnology, 26 (2008), 8."
   ]
  }
 ],
 "metadata": {
  "kernelspec": {
   "display_name": "Python 2",
   "language": "python",
   "name": "python2"
  },
  "language_info": {
   "codemirror_mode": {
    "name": "ipython",
    "version": 2
   },
   "file_extension": ".py",
   "mimetype": "text/x-python",
   "name": "python",
   "nbconvert_exporter": "python",
   "pygments_lexer": "ipython2",
   "version": "2.7.15"
  }
 },
 "nbformat": 4,
 "nbformat_minor": 2
}
